{
 "cells": [
  {
   "cell_type": "markdown",
   "metadata": {},
   "source": [
    "[![Open in Binder](https://mybinder.org/badge_logo.svg)](https://mybinder.org/v2/gh/fat-forensics/resources/master?filepath=pi_ice_pd%2Fpi_ice_pd.ipynb)\n",
    "[![Open In Colab](https://colab.research.google.com/assets/colab-badge.svg)](https://colab.research.google.com/github/fat-forensics/resources/blob/master/pi_ice_pd/pi_ice_pd.ipynb)\n",
    "[![new BSD](https://img.shields.io/github/license/fat-forensics/resources.svg)](https://github.com/fat-forensics/resources/blob/master/LICENCE)\n",
    "\n",
    "# Interactive Exploration of Permutation Importance, Individual Conditional Expectation and Partial Dependence #\n",
    "\n",
    "This directory contains a Jupyter Notebook that explores\n",
    "*permutation importance*, *individual conditional expectation* and\n",
    "*partial dependence* with interactive widgets.\n",
    "\n",
    "To run the notebook (`pi_ice_pd.ipynb`) you need to install a\n",
    "collection of Python dependencies listed in the `requirements.txt` file\n",
    "(included in this directory) by executing `pip install -r requirements.txt`.\n",
    "Alternatively, you can run it via Binder or Colab by clicking the buttons\n",
    "included above."
   ]
  },
  {
   "cell_type": "code",
   "execution_count": 1,
   "metadata": {},
   "outputs": [],
   "source": [
    "#@title Install dependencies\n",
    "# NBVAL_IGNORE_OUTPUT\n",
    "import os\n",
    "if 'google.colab' in str(get_ipython()):\n",
    "    LIBRARY_URL = ('https://raw.githubusercontent.com/fat-forensics/resources/'\n",
    "                   'master/pi_ice_pd/{}')\n",
    "\n",
    "    require = 'requirements.txt'\n",
    "    require_url = LIBRARY_URL.format(require)\n",
    "    if not os.path.exists(require):\n",
    "        ! wget $require_url -O $require\n",
    "        ! pip install -r $require\n",
    "\n",
    "    module = 'pi_ice_pd.py'\n",
    "    module_url = LIBRARY_URL.format(module)\n",
    "    if not os.path.exists(module):\n",
    "        ! wget $module_url -O $module"
   ]
  },
  {
   "cell_type": "code",
   "execution_count": 2,
   "metadata": {},
   "outputs": [
    {
     "name": "stderr",
     "output_type": "stream",
     "text": [
      "22-Jul-08 20:37:33 fatf.utils.array.tools INFO     Using numpy's numpy.lib.recfunctions.structured_to_unstructured as fatf.utils.array.tools.structured_to_unstructured and fatf.utils.array.tools.structured_to_unstructured_row.\n"
     ]
    }
   ],
   "source": [
    "#@title Set up dependencies\n",
    "import numpy as np\n",
    "import sklearn.datasets\n",
    "import sklearn.linear_model\n",
    "\n",
    "import pi_ice_pd as pid"
   ]
  },
  {
   "cell_type": "code",
   "execution_count": 3,
   "metadata": {},
   "outputs": [
    {
     "data": {
      "text/html": [
       "<style>#sk-container-id-1 {color: black;background-color: white;}#sk-container-id-1 pre{padding: 0;}#sk-container-id-1 div.sk-toggleable {background-color: white;}#sk-container-id-1 label.sk-toggleable__label {cursor: pointer;display: block;width: 100%;margin-bottom: 0;padding: 0.3em;box-sizing: border-box;text-align: center;}#sk-container-id-1 label.sk-toggleable__label-arrow:before {content: \"▸\";float: left;margin-right: 0.25em;color: #696969;}#sk-container-id-1 label.sk-toggleable__label-arrow:hover:before {color: black;}#sk-container-id-1 div.sk-estimator:hover label.sk-toggleable__label-arrow:before {color: black;}#sk-container-id-1 div.sk-toggleable__content {max-height: 0;max-width: 0;overflow: hidden;text-align: left;background-color: #f0f8ff;}#sk-container-id-1 div.sk-toggleable__content pre {margin: 0.2em;color: black;border-radius: 0.25em;background-color: #f0f8ff;}#sk-container-id-1 input.sk-toggleable__control:checked~div.sk-toggleable__content {max-height: 200px;max-width: 100%;overflow: auto;}#sk-container-id-1 input.sk-toggleable__control:checked~label.sk-toggleable__label-arrow:before {content: \"▾\";}#sk-container-id-1 div.sk-estimator input.sk-toggleable__control:checked~label.sk-toggleable__label {background-color: #d4ebff;}#sk-container-id-1 div.sk-label input.sk-toggleable__control:checked~label.sk-toggleable__label {background-color: #d4ebff;}#sk-container-id-1 input.sk-hidden--visually {border: 0;clip: rect(1px 1px 1px 1px);clip: rect(1px, 1px, 1px, 1px);height: 1px;margin: -1px;overflow: hidden;padding: 0;position: absolute;width: 1px;}#sk-container-id-1 div.sk-estimator {font-family: monospace;background-color: #f0f8ff;border: 1px dotted black;border-radius: 0.25em;box-sizing: border-box;margin-bottom: 0.5em;}#sk-container-id-1 div.sk-estimator:hover {background-color: #d4ebff;}#sk-container-id-1 div.sk-parallel-item::after {content: \"\";width: 100%;border-bottom: 1px solid gray;flex-grow: 1;}#sk-container-id-1 div.sk-label:hover label.sk-toggleable__label {background-color: #d4ebff;}#sk-container-id-1 div.sk-serial::before {content: \"\";position: absolute;border-left: 1px solid gray;box-sizing: border-box;top: 0;bottom: 0;left: 50%;z-index: 0;}#sk-container-id-1 div.sk-serial {display: flex;flex-direction: column;align-items: center;background-color: white;padding-right: 0.2em;padding-left: 0.2em;position: relative;}#sk-container-id-1 div.sk-item {position: relative;z-index: 1;}#sk-container-id-1 div.sk-parallel {display: flex;align-items: stretch;justify-content: center;background-color: white;position: relative;}#sk-container-id-1 div.sk-item::before, #sk-container-id-1 div.sk-parallel-item::before {content: \"\";position: absolute;border-left: 1px solid gray;box-sizing: border-box;top: 0;bottom: 0;left: 50%;z-index: -1;}#sk-container-id-1 div.sk-parallel-item {display: flex;flex-direction: column;z-index: 1;position: relative;background-color: white;}#sk-container-id-1 div.sk-parallel-item:first-child::after {align-self: flex-end;width: 50%;}#sk-container-id-1 div.sk-parallel-item:last-child::after {align-self: flex-start;width: 50%;}#sk-container-id-1 div.sk-parallel-item:only-child::after {width: 0;}#sk-container-id-1 div.sk-dashed-wrapped {border: 1px dashed gray;margin: 0 0.4em 0.5em 0.4em;box-sizing: border-box;padding-bottom: 0.4em;background-color: white;}#sk-container-id-1 div.sk-label label {font-family: monospace;font-weight: bold;display: inline-block;line-height: 1.2em;}#sk-container-id-1 div.sk-label-container {text-align: center;}#sk-container-id-1 div.sk-container {/* jupyter's `normalize.less` sets `[hidden] { display: none; }` but bootstrap.min.css set `[hidden] { display: none !important; }` so we also need the `!important` here to be able to override the default hidden behavior on the sphinx rendered scikit-learn.org. See: https://github.com/scikit-learn/scikit-learn/issues/21755 */display: inline-block !important;position: relative;}#sk-container-id-1 div.sk-text-repr-fallback {display: none;}</style><div id=\"sk-container-id-1\" class=\"sk-top-container\"><div class=\"sk-text-repr-fallback\"><pre>LogisticRegression(C=100000.0, random_state=42)</pre><b>In a Jupyter environment, please rerun this cell to show the HTML representation or trust the notebook. <br />On GitHub, the HTML representation is unable to render, please try loading this page with nbviewer.org.</b></div><div class=\"sk-container\" hidden><div class=\"sk-item\"><div class=\"sk-estimator sk-toggleable\"><input class=\"sk-toggleable__control sk-hidden--visually\" id=\"sk-estimator-id-1\" type=\"checkbox\" checked><label for=\"sk-estimator-id-1\" class=\"sk-toggleable__label sk-toggleable__label-arrow\">LogisticRegression</label><div class=\"sk-toggleable__content\"><pre>LogisticRegression(C=100000.0, random_state=42)</pre></div></div></div></div></div>"
      ],
      "text/plain": [
       "LogisticRegression(C=100000.0, random_state=42)"
      ]
     },
     "execution_count": 3,
     "metadata": {},
     "output_type": "execute_result"
    }
   ],
   "source": [
    "#@title Get iris data set and fit \"black box\"\n",
    "# Fix global options\n",
    "RANDOM_SEED = 42\n",
    "\n",
    "# Load the iris data set\n",
    "iris = sklearn.datasets.load_iris()\n",
    "iris_X = iris.data  # [:, :2]  #  take the first two features only\n",
    "iris_y = iris.target\n",
    "iris_lables = iris.target_names\n",
    "iris_feature_names = iris.feature_names\n",
    "\n",
    "# Fit the classifier\n",
    "logreg = sklearn.linear_model.LogisticRegression(\n",
    "    C=1e5, random_state=RANDOM_SEED)\n",
    "logreg.fit(iris_X, iris_y)"
   ]
  },
  {
   "cell_type": "markdown",
   "metadata": {},
   "source": [
    "## Permutation Importance ##"
   ]
  },
  {
   "cell_type": "code",
   "execution_count": 4,
   "metadata": {},
   "outputs": [],
   "source": [
    "#@title Widget specification\n",
    "# Fix global options\n",
    "PI_REPEATS = 30\n",
    "\n",
    "pi_metrics = {\n",
    "    'R-squared': 'r2',\n",
    "    'MSE': 'neg_mean_squared_error',\n",
    "    'MAE': 'neg_mean_absolute_error',\n",
    "    'max': 'max_error'\n",
    "}\n",
    "feature_grouping = [[0, 1], [2, 3]]"
   ]
  },
  {
   "cell_type": "code",
   "execution_count": 5,
   "metadata": {},
   "outputs": [],
   "source": [
    "#@title Generate permutation importance\n",
    "pi = pid.build_permutation_importance(\n",
    "    iris_X,\n",
    "    iris_y,\n",
    "    iris_feature_names,\n",
    "    logreg,\n",
    "    pi_metrics.values(),\n",
    "    repeats=PI_REPEATS,\n",
    "    random_seed=RANDOM_SEED\n",
    ")"
   ]
  },
  {
   "cell_type": "code",
   "execution_count": 6,
   "metadata": {},
   "outputs": [],
   "source": [
    "#@title Generate widget\n",
    "# NBVAL_IGNORE_OUTPUT\n",
    "pi_widget = pid.generate_pi_widget(\n",
    "    pi_metrics, pi, feature_grouping, iris_X, iris_y, iris_feature_names)"
   ]
  },
  {
   "cell_type": "code",
   "execution_count": 7,
   "metadata": {},
   "outputs": [
    {
     "data": {
      "application/vnd.jupyter.widget-view+json": {
       "model_id": "98f62435312f450d93fc13f2b8d9d4c5",
       "version_major": 2,
       "version_minor": 0
      },
      "text/plain": [
       "VBox(children=(ToggleButtons(description='Metric:', options=('R-squared', 'MSE', 'MAE', 'max'), value='R-squar…"
      ]
     },
     "metadata": {},
     "output_type": "display_data"
    }
   ],
   "source": [
    "#@title Display widget\n",
    "# NBVAL_IGNORE_OUTPUT\n",
    "pi_widget"
   ]
  },
  {
   "cell_type": "markdown",
   "metadata": {},
   "source": [
    "## Individual Conditional Expectation & Partial Dependence ##"
   ]
  },
  {
   "cell_type": "code",
   "execution_count": 8,
   "metadata": {},
   "outputs": [],
   "source": [
    "#@title Widget specification\n",
    "# Fix global options\n",
    "ICE_PD_SAMPLES = 200\n",
    "\n",
    "feature_idxs = [2, 3]\n",
    "\n",
    "class_labels = {i: j for i, j in enumerate(iris_lables)}\n",
    "instances_to_explain = {\n",
    "    'setosa': np.array([5, 3.5, 1.5, 0.25]).astype(np.float32),\n",
    "    'versicolor': np.array([5.5, 2.75, 4.5, 1.25]).astype(np.float32),\n",
    "    'virginica': np.array([7, 3, 5.5, 2.25]).astype(np.float32)\n",
    "}"
   ]
  },
  {
   "cell_type": "code",
   "execution_count": 9,
   "metadata": {},
   "outputs": [],
   "source": [
    "#@title Generate individual conditional expectation & partial dependence\n",
    "ice_pd = pid.build_ice_pd(\n",
    "    iris_X,\n",
    "    logreg,\n",
    "    feature_idxs,\n",
    "    samples_no=ICE_PD_SAMPLES)"
   ]
  },
  {
   "cell_type": "code",
   "execution_count": 10,
   "metadata": {},
   "outputs": [],
   "source": [
    "#@title Generate plain widget\n",
    "# NBVAL_IGNORE_OUTPUT\n",
    "ice_pd_widget = pid.generate_ice_pd_widget(\n",
    "    ice_pd, class_labels, iris_feature_names)"
   ]
  },
  {
   "cell_type": "code",
   "execution_count": 11,
   "metadata": {},
   "outputs": [
    {
     "data": {
      "application/vnd.jupyter.widget-view+json": {
       "model_id": "6bd3e693100f44ef9f8fe79d7880858e",
       "version_major": 2,
       "version_minor": 0
      },
      "text/plain": [
       "VBox(children=(ToggleButtons(description='Class:', options=('setosa', 'versicolor', 'virginica'), value='setos…"
      ]
     },
     "metadata": {},
     "output_type": "display_data"
    }
   ],
   "source": [
    "#@title Display plain widget\n",
    "# NBVAL_IGNORE_OUTPUT\n",
    "ice_pd_widget"
   ]
  },
  {
   "cell_type": "code",
   "execution_count": 12,
   "metadata": {},
   "outputs": [],
   "source": [
    "#@title Generate complex widget\n",
    "# NBVAL_IGNORE_OUTPUT\n",
    "ice_pd_widget_ = pid.generate_ice_pd_widget(\n",
    "    ice_pd,\n",
    "    class_labels,\n",
    "    iris_feature_names,\n",
    "    instances_to_explain=instances_to_explain,\n",
    "    model=logreg,\n",
    "    show_discretisation=True)"
   ]
  },
  {
   "cell_type": "code",
   "execution_count": 13,
   "metadata": {},
   "outputs": [
    {
     "data": {
      "application/vnd.jupyter.widget-view+json": {
       "model_id": "885d2c5600584fb7b04bfdd8dfc719dd",
       "version_major": 2,
       "version_minor": 0
      },
      "text/plain": [
       "VBox(children=(ToggleButtons(description='Instance:', options=('setosa', 'versicolor', 'virginica'), value='se…"
      ]
     },
     "metadata": {},
     "output_type": "display_data"
    }
   ],
   "source": [
    "#@title Display complex widget\n",
    "# NBVAL_IGNORE_OUTPUT\n",
    "ice_pd_widget_"
   ]
  }
 ],
 "metadata": {
  "kernelspec": {
   "display_name": "Python 3 (ipykernel)",
   "language": "python",
   "name": "python3"
  },
  "language_info": {
   "codemirror_mode": {
    "name": "ipython",
    "version": 3
   },
   "file_extension": ".py",
   "mimetype": "text/x-python",
   "name": "python",
   "nbconvert_exporter": "python",
   "pygments_lexer": "ipython3",
   "version": "3.8.2"
  }
 },
 "nbformat": 4,
 "nbformat_minor": 1
}
