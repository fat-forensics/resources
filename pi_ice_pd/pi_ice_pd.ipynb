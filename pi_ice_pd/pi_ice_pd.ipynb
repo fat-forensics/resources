{
 "cells": [
  {
   "cell_type": "markdown",
   "metadata": {},
   "source": [
    "[![Open in Binder](https://mybinder.org/badge_logo.svg)](https://mybinder.org/v2/gh/fat-forensics/resources/master?filepath=pi_ice_pd%2Fpi_ice_pd.ipynb)\n",
    "[![Open In Colab](https://colab.research.google.com/assets/colab-badge.svg)](https://colab.research.google.com/github/fat-forensics/resources/blob/master/pi_ice_pd/pi_ice_pd.ipynb)\n",
    "[![new BSD](https://img.shields.io/github/license/fat-forensics/resources.svg)](https://github.com/fat-forensics/resources/blob/master/LICENCE)\n",
    "\n",
    "# Interactive Exploration of Permutation Importance, Individual Conditional Expectation and Partial Dependence #\n",
    "\n",
    "This directory contains a Jupyter Notebook that explores\n",
    "*permutation importance*, *individual conditional expectation* and\n",
    "*partial dependence* with interactive widgets.\n",
    "\n",
    "To run the notebook (`pi_ice_pd.ipynb`) you need to install a\n",
    "collection of Python dependencies listed in the `requirements.txt` file\n",
    "(included in this directory) by executing `pip install -r requirements.txt`.\n",
    "Alternatively, you can run it via Binder or Colab by clicking the buttons\n",
    "included above."
   ]
  },
  {
   "cell_type": "code",
   "execution_count": 1,
   "metadata": {},
   "outputs": [],
   "source": [
    "#@title Install dependencies\n",
    "# NBVAL_IGNORE_OUTPUT\n",
    "import os\n",
    "if 'google.colab' in str(get_ipython()):\n",
    "    LIBRARY_URL = ('https://raw.githubusercontent.com/fat-forensics/resources/'\n",
    "                   'master/pi_ice_pd/{}')\n",
    "\n",
    "    require = 'requirements.txt'\n",
    "    require_url = LIBRARY_URL.format(require)\n",
    "    if not os.path.exists(require):\n",
    "        ! wget $require_url -O $require\n",
    "        ! pip install -r $require\n",
    "\n",
    "    module = 'pi_ice_pd.py'\n",
    "    module_url = LIBRARY_URL.format(module)\n",
    "    if not os.path.exists(module):\n",
    "        ! wget $module_url -O $module"
   ]
  },
  {
   "cell_type": "code",
   "execution_count": 2,
   "metadata": {},
   "outputs": [
    {
     "name": "stderr",
     "output_type": "stream",
     "text": [
      "22-Apr-29 17:27:59 fatf.utils.array.tools INFO     Using numpy's numpy.lib.recfunctions.structured_to_unstructured as fatf.utils.array.tools.structured_to_unstructured and fatf.utils.array.tools.structured_to_unstructured_row.\n"
     ]
    }
   ],
   "source": [
    "#@title Set up dependencies\n",
    "import numpy as np\n",
    "import sklearn.datasets\n",
    "import sklearn.linear_model\n",
    "\n",
    "import pi_ice_pd as pid"
   ]
  },
  {
   "cell_type": "code",
   "execution_count": 3,
   "metadata": {},
   "outputs": [
    {
     "data": {
      "text/plain": [
       "LogisticRegression(C=100000.0, random_state=42)"
      ]
     },
     "execution_count": 3,
     "metadata": {},
     "output_type": "execute_result"
    }
   ],
   "source": [
    "#@title Get iris data set and fit \"black box\"\n",
    "# Fix global options\n",
    "RANDOM_SEED = 42\n",
    "\n",
    "# Load the iris data set\n",
    "iris = sklearn.datasets.load_iris()\n",
    "iris_X = iris.data  # [:, :2]  #  take the first two features only\n",
    "iris_y = iris.target\n",
    "iris_lables = iris.target_names\n",
    "iris_feature_names = iris.feature_names\n",
    "\n",
    "# Fit the classifier\n",
    "logreg = sklearn.linear_model.LogisticRegression(\n",
    "    C=1e5, random_state=RANDOM_SEED)\n",
    "logreg.fit(iris_X, iris_y)"
   ]
  },
  {
   "cell_type": "markdown",
   "metadata": {},
   "source": [
    "## Permutation Importance ##"
   ]
  },
  {
   "cell_type": "code",
   "execution_count": 4,
   "metadata": {},
   "outputs": [],
   "source": [
    "#@title Widget specification\n",
    "# Fix global options\n",
    "PI_REPEATS = 30\n",
    "\n",
    "pi_metrics = {\n",
    "    'R-squared': 'r2',\n",
    "    'MSE': 'neg_mean_squared_error',\n",
    "    'MAE': 'neg_mean_absolute_error',\n",
    "    'max': 'max_error'\n",
    "}\n",
    "feature_grouping = [[0, 1], [2, 3]]"
   ]
  },
  {
   "cell_type": "code",
   "execution_count": 5,
   "metadata": {},
   "outputs": [],
   "source": [
    "#@title Generate permutation importance\n",
    "pi = pid.build_permutation_importance(\n",
    "    iris_X,\n",
    "    iris_y,\n",
    "    iris_feature_names,\n",
    "    logreg,\n",
    "    pi_metrics.values(),\n",
    "    repeats=PI_REPEATS,\n",
    "    random_seed=RANDOM_SEED\n",
    ")"
   ]
  },
  {
   "cell_type": "code",
   "execution_count": 6,
   "metadata": {},
   "outputs": [],
   "source": [
    "#@title Generate widget\n",
    "# NBVAL_IGNORE_OUTPUT\n",
    "pi_widget = pid.generate_pi_widget(\n",
    "    pi_metrics, pi, feature_grouping, iris_X, iris_y, iris_feature_names)"
   ]
  },
  {
   "cell_type": "code",
   "execution_count": 7,
   "metadata": {},
   "outputs": [
    {
     "data": {
      "application/vnd.jupyter.widget-view+json": {
       "model_id": "3dc00bb5d5ef436dbe53bf6cf865e255",
       "version_major": 2,
       "version_minor": 0
      },
      "text/plain": [
       "VBox(children=(ToggleButtons(description='Metric:', options=('R-squared', 'MSE', 'MAE', 'max'), value='R-squar…"
      ]
     },
     "metadata": {},
     "output_type": "display_data"
    }
   ],
   "source": [
    "#@title Display widget\n",
    "# NBVAL_IGNORE_OUTPUT\n",
    "pi_widget"
   ]
  },
  {
   "cell_type": "markdown",
   "metadata": {},
   "source": [
    "## Individual Conditional Expectation & Partial Dependence ##"
   ]
  },
  {
   "cell_type": "code",
   "execution_count": 8,
   "metadata": {},
   "outputs": [],
   "source": [
    "#@title Widget specification\n",
    "# Fix global options\n",
    "ICE_PD_SAMPLES = 200\n",
    "\n",
    "feature_idxs = [2, 3]\n",
    "\n",
    "class_labels = {i: j for i, j in enumerate(iris_lables)}\n",
    "instances_to_explain = {\n",
    "    'setosa': np.array([5, 3.5, 1.5, 0.25]).astype(np.float32),\n",
    "    'versicolor': np.array([5.5, 2.75, 4.5, 1.25]).astype(np.float32),\n",
    "    'virginica': np.array([7, 3, 5.5, 2.25]).astype(np.float32)\n",
    "}"
   ]
  },
  {
   "cell_type": "code",
   "execution_count": 9,
   "metadata": {},
   "outputs": [],
   "source": [
    "#@title Generate individual conditional expectation & partial dependence\n",
    "ice_pd = pid.build_ice_pd(\n",
    "    iris_X,\n",
    "    logreg,\n",
    "    feature_idxs,\n",
    "    samples_no=ICE_PD_SAMPLES)"
   ]
  },
  {
   "cell_type": "code",
   "execution_count": 10,
   "metadata": {},
   "outputs": [],
   "source": [
    "#@title Generate plain widget\n",
    "# NBVAL_IGNORE_OUTPUT\n",
    "ice_pd_widget = pid.generate_ice_pd_widget(\n",
    "    ice_pd, class_labels, iris_feature_names)"
   ]
  },
  {
   "cell_type": "code",
   "execution_count": 11,
   "metadata": {},
   "outputs": [
    {
     "data": {
      "application/vnd.jupyter.widget-view+json": {
       "model_id": "df7ff3df4d9b4085b370d7b4bc2c4fac",
       "version_major": 2,
       "version_minor": 0
      },
      "text/plain": [
       "VBox(children=(ToggleButtons(description='Class:', options=('setosa', 'versicolor', 'virginica'), value='setos…"
      ]
     },
     "metadata": {},
     "output_type": "display_data"
    }
   ],
   "source": [
    "#@title Display plain widget\n",
    "# NBVAL_IGNORE_OUTPUT\n",
    "ice_pd_widget"
   ]
  },
  {
   "cell_type": "code",
   "execution_count": 12,
   "metadata": {},
   "outputs": [],
   "source": [
    "#@title Generate complex widget\n",
    "# NBVAL_IGNORE_OUTPUT\n",
    "ice_pd_widget_ = pid.generate_ice_pd_widget(\n",
    "    ice_pd,\n",
    "    class_labels,\n",
    "    iris_feature_names,\n",
    "    instances_to_explain=instances_to_explain,\n",
    "    model=logreg,\n",
    "    show_discretisation=True)"
   ]
  },
  {
   "cell_type": "code",
   "execution_count": 13,
   "metadata": {},
   "outputs": [
    {
     "data": {
      "application/vnd.jupyter.widget-view+json": {
       "model_id": "c5f82c41d7cd4f7e94a08498f0942993",
       "version_major": 2,
       "version_minor": 0
      },
      "text/plain": [
       "VBox(children=(ToggleButtons(description='Instance:', options=('setosa', 'versicolor', 'virginica'), value='se…"
      ]
     },
     "metadata": {},
     "output_type": "display_data"
    }
   ],
   "source": [
    "#@title Display complex widget\n",
    "# NBVAL_IGNORE_OUTPUT\n",
    "ice_pd_widget_"
   ]
  }
 ],
 "metadata": {
  "kernelspec": {
   "display_name": "Python 3",
   "language": "python",
   "name": "python3"
  },
  "language_info": {
   "codemirror_mode": {
    "name": "ipython",
    "version": 3
   },
   "file_extension": ".py",
   "mimetype": "text/x-python",
   "name": "python",
   "nbconvert_exporter": "python",
   "pygments_lexer": "ipython3",
   "version": "3.8.2"
  }
 },
 "nbformat": 4,
 "nbformat_minor": 1
}
