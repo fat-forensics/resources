{
 "cells": [
  {
   "cell_type": "markdown",
   "metadata": {},
   "source": [
    "[![Open in Binder](https://mybinder.org/badge_logo.svg)](https://mybinder.org/v2/gh/fat-forensics/resources/master?filepath=fat_forensics_overview%2FFAT_Forensics.ipynb)\n",
    "[![Open In Colab](https://colab.research.google.com/assets/colab-badge.svg)](https://colab.research.google.com/github/fat-forensics/resources/blob/master/fat_forensics_overview/FAT_Forensics.ipynb)\n",
    "[![new BSD](https://img.shields.io/github/license/fat-forensics/resources.svg)](https://github.com/fat-forensics/resources/blob/master/LICENCE)\n",
    "\n",
    "# FAT Forensics: A Python Toolbox for Algorithmic Fairness, Accountability and Transparency #\n",
    "\n",
    "This directory contains a Jupyter Notebook that can be used to reproduce the\n",
    "results presented in the \"*FAT Forensics: A Python Toolbox for Algorithmic\n",
    "Fairness, Accountability and Transparency*\" paper.\n",
    "\n",
    "The manuscript is available on [arXiv][arXiv:1909.05167].\n",
    "\n",
    "To run the notebook (`FAT_Forensics.ipynb`) you need to install a collection of\n",
    "Python dependencies listed in the `requirements.txt` file (included in this\n",
    "directory) by executing `pip install -r requirements.txt`.\n",
    "Alternatively, you can run it via Binder or Colab by clicking the buttons\n",
    "included above.\n",
    "\n",
    "## Abstract ##\n",
    "\n",
    "> Machine learning algorithms can take important, and sometimes legally binding,\n",
    "> decisions about our everyday life.\n",
    "> In many cases, however, these systems and their actions are neither regulated\n",
    "> nor certified.\n",
    "> Given the potential harm that such algorithms can cause, their fairness,\n",
    "> accountability and transparency are of paramount importance.\n",
    "> Recent literature suggested voluntary self-reporting on these aspects of\n",
    "> predictive systems -- e.g., \"datasheets for datasets\" -- but their scope is\n",
    "> often limited to a single component of a machine learning pipeline and their\n",
    "> composition requires manual labour.\n",
    "> To resolve this impasse and ensure high-quality, fair, transparent and\n",
    "> reliable data-driven models, we developed an open source toolbox that can\n",
    "> analyse selected fairness, accountability and transparency characteristics\n",
    "> of these systems to automatically and objectively report them to relevant\n",
    "> stakeholders.\n",
    "> The software provides functionality for inspecting the aforementioned\n",
    "> properties of all aspects of the machine learning process: data\n",
    "> (and their features), models and predictions.\n",
    "> In this paper we describe the design, scope and usage examples of this Python\n",
    "> package, which is published under the BSD 3-Clause open source licence.\n",
    "\n",
    "## BibTeX ##\n",
    "```\n",
    "@article{sokol2019fat,\n",
    "  title={{FAT} {F}orensics: {A} {P}ython toolbox for algorithmic fairness,\n",
    "         accountability and transparency},\n",
    "  author={Sokol, Kacper and Santos-Rodriguez, Raul and Flach, Peter},\n",
    "  journal={arXiv preprint arXiv:1909.05167},\n",
    "  year={2019}\n",
    "}\n",
    "```\n",
    "\n",
    "[arXiv:1909.05167]: https://arxiv.org/abs/1909.05167"
   ]
  },
  {
   "cell_type": "markdown",
   "metadata": {},
   "source": [
    "## Set up the notebook ##\n",
    "\n",
    "Import auxiliary modules and set up the environment (FAT Forensics random seed and matplotlib plotting colour-scheme)."
   ]
  },
  {
   "cell_type": "code",
   "execution_count": 1,
   "metadata": {},
   "outputs": [],
   "source": [
    "# NBVAL_IGNORE_OUTPUT\n",
    "import os\n",
    "if 'google.colab' in str(get_ipython()):\n",
    "    LIBRARY_URL = ('https://raw.githubusercontent.com/fat-forensics/resources/'\n",
    "                   'master/fat_forensics_overview/{}')\n",
    "    require = 'requirements.txt'\n",
    "    require_url = LIBRARY_URL.format(require)\n",
    "    if not os.path.exists(require):\n",
    "        ! wget $require_url -O $require\n",
    "        ! pip install -r $require"
   ]
  },
  {
   "cell_type": "code",
   "execution_count": 2,
   "metadata": {},
   "outputs": [],
   "source": [
    "import scipy\n",
    "import scipy.stats\n",
    "\n",
    "import sklearn.datasets\n",
    "import sklearn.metrics\n",
    "import sklearn.model_selection\n",
    "\n",
    "import matplotlib.pyplot as plt\n",
    "import matplotlib.colors as plt_colors\n",
    "import numpy as np\n",
    "import pandas as pd\n",
    "import seaborn as sns\n",
    "\n",
    "from sklearn.ensemble import RandomForestClassifier\n",
    "from sklearn.inspection import DecisionBoundaryDisplay\n",
    "from sklearn.linear_model import LogisticRegression, RidgeClassifier\n",
    "# from sklearn.svm import SVC\n",
    "from sklearn.tree import DecisionTreeClassifier\n",
    "\n",
    "from sklearn.preprocessing import MinMaxScaler  # , StandardScaler\n",
    "\n",
    "%matplotlib inline"
   ]
  },
  {
   "cell_type": "code",
   "execution_count": 3,
   "metadata": {},
   "outputs": [],
   "source": [
    "import fatf"
   ]
  },
  {
   "cell_type": "code",
   "execution_count": 4,
   "metadata": {},
   "outputs": [
    {
     "name": "stderr",
     "output_type": "stream",
     "text": [
      "22-Jul-08 20:15:17 fatf         INFO     Seeding RNGs using the input parameter.\n",
      "22-Jul-08 20:15:17 fatf         INFO     Seeding RNGs with 42.\n"
     ]
    }
   ],
   "source": [
    "random_seed = 42\n",
    "fatf.setup_random_seed(random_seed)\n",
    "\n",
    "plt.style.use('seaborn')"
   ]
  },
  {
   "cell_type": "code",
   "execution_count": 5,
   "metadata": {},
   "outputs": [],
   "source": [
    "cc = plt.get_cmap('Pastel1')\n",
    "colours = [plt_colors.rgb2hex(cc(i)) for i in range(cc.N)]\n",
    "cmap_green_red = plt_colors.ListedColormap([colours[2], colours[0]])  # 'green', 'red'\n",
    "cc_ = plt.get_cmap('Set1')\n",
    "colours_ = [plt_colors.rgb2hex(cc_(i)) for i in range(cc_.N)]\n",
    "cmap_red_blue = plt_colors.ListedColormap([colours_[0], colours_[1]])\n",
    "cmap_red_blue_blend = plt_colors.ListedColormap(\n",
    "    [plt_colors.colorConverter.to_rgba(i, alpha=.2)\n",
    "     for i in (colours_[0], colours_[1])])"
   ]
  },
  {
   "cell_type": "markdown",
   "metadata": {},
   "source": [
    "## Watermark the notebook ##"
   ]
  },
  {
   "cell_type": "code",
   "execution_count": 6,
   "metadata": {},
   "outputs": [
    {
     "name": "stdout",
     "output_type": "stream",
     "text": [
      "CPython 3.8.2\n",
      "IPython 8.4.0\n",
      "\n",
      "fatf 0.1.1\n",
      "matplotlib 3.3.0\n",
      "numpy 1.20.1\n",
      "pandas 1.1.0\n",
      "scipy 1.6.1\n",
      "seaborn 0.9.0\n",
      "sklearn 1.1.0\n",
      "\n",
      "compiler   : Clang 12.0.0 (clang-1200.0.32.2)\n",
      "system     : Darwin\n",
      "release    : 19.6.0\n",
      "machine    : x86_64\n",
      "processor  : i386\n",
      "CPU cores  : 4\n",
      "interpreter: 64bit\n"
     ]
    }
   ],
   "source": [
    "# NBVAL_IGNORE_OUTPUT\n",
    "%load_ext watermark\n",
    "%watermark -v -m -p fatf,matplotlib,numpy,pandas,scipy,seaborn,sklearn"
   ]
  },
  {
   "cell_type": "markdown",
   "metadata": {},
   "source": [
    "## FAT Forensics Use Cases ##"
   ]
  },
  {
   "cell_type": "markdown",
   "metadata": {},
   "source": [
    "### Prepare the Adult data set ###\n",
    "Download and pre-process the [Adult data set][adult] (UCI Census Income) to use with our experiments.\n",
    "(This data set is popular in algorithmic fairness research.)\n",
    "\n",
    "[adult]: http://archive.ics.uci.edu/ml/datasets/Census+Income"
   ]
  },
  {
   "cell_type": "code",
   "execution_count": 7,
   "metadata": {},
   "outputs": [
    {
     "name": "stdout",
     "output_type": "stream",
     "text": [
      "--2022-03-22 00:23:32--  http://archive.ics.uci.edu/ml/machine-learning-databases/adult/adult.data\n",
      "Resolving archive.ics.uci.edu (archive.ics.uci.edu)... 128.195.10.252\n",
      "Connecting to archive.ics.uci.edu (archive.ics.uci.edu)|128.195.10.252|:80... connected.\n",
      "HTTP request sent, awaiting response... 200 OK\n",
      "Length: 3974305 (3.8M) [application/x-httpd-php]\n",
      "Saving to: ‘adult.data’\n",
      "\n",
      "adult.data          100%[===================>]   3.79M  1.45MB/s    in 2.6s    \n",
      "\n",
      "2022-03-26 11:58:45 (1.45 MB/s) - ‘adult.data’ saved [3974305/3974305]\n",
      "\n"
     ]
    }
   ],
   "source": [
    "# NBVAL_IGNORE_OUTPUT\n",
    "# Download census\n",
    "if not os.path.exists('adult.data'):\n",
    "    ! wget http://archive.ics.uci.edu/ml/machine-learning-databases/adult/adult.data"
   ]
  },
  {
   "cell_type": "code",
   "execution_count": 8,
   "metadata": {},
   "outputs": [
    {
     "name": "stderr",
     "output_type": "stream",
     "text": [
      "/Python/3.8.2/envs/res/lib/python3.8/site-packages/pandas/core/computation/expressions.py:68: FutureWarning: elementwise comparison failed; returning scalar instead, but in the future will perform elementwise comparison\n",
      "  return op(a, b)\n"
     ]
    }
   ],
   "source": [
    "# Specify census feature names\n",
    "census_names = [\n",
    "    'age',\n",
    "    'workclass',\n",
    "    'fnlwgt',\n",
    "    'education',\n",
    "    'education-num',\n",
    "    'marital-status',\n",
    "    'occupation',\n",
    "    'relationship',\n",
    "    'race',\n",
    "    'sex',\n",
    "    'capital-gain',\n",
    "    'capital-loss',\n",
    "    'hours-per-week',\n",
    "    'native-country',\n",
    "    'income'\n",
    "]\n",
    "\n",
    "# Load census into a dataframe\n",
    "df = pd.read_csv('adult.data', names=census_names, skipinitialspace=True)\n",
    "\n",
    "# Remove missing values\n",
    "df = df[df != '?']\n",
    "\n",
    "# Get feature mapping to create a purely numerical data array\n",
    "features_unique = {\n",
    "    'workclass': df['workclass'].unique(),\n",
    "    'education': np.sort(df['education'].unique()),\n",
    "    'marital-status': np.sort(df['marital-status'].unique()),\n",
    "    'occupation': df['occupation'].unique(),\n",
    "    'relationship': np.sort(df['relationship'].unique()),\n",
    "    'race': np.sort(df['race'].unique()),\n",
    "    'sex': np.sort(df['sex'].unique()),\n",
    "    'native-country': df['native-country'].unique(),\n",
    "    'income': np.sort(df['income'].unique())\n",
    "}\n",
    "\n",
    "df_unmapped = df.copy()\n",
    "\n",
    "map_i_s = {}\n",
    "map_s_i = {}\n",
    "for feature_name in features_unique:\n",
    "    map_i_s[feature_name] = dict()\n",
    "    map_s_i[feature_name] = dict()\n",
    "    for i, value in enumerate(features_unique[feature_name]):\n",
    "        map_i_s[feature_name][i] = value\n",
    "        map_s_i[feature_name][value] = i\n",
    "        \n",
    "# Map the categorical features to numbers\n",
    "for feature_name in map_s_i:\n",
    "    df[feature_name] = df[feature_name].map(map_s_i[feature_name])\n",
    "\n",
    "# Split the array into X and y\n",
    "data_array = df.drop('income', axis=1).values\n",
    "ground_truth = df['income'].values"
   ]
  },
  {
   "cell_type": "code",
   "execution_count": 9,
   "metadata": {},
   "outputs": [
    {
     "data": {
      "text/html": [
       "<style>#sk-container-id-1 {color: black;background-color: white;}#sk-container-id-1 pre{padding: 0;}#sk-container-id-1 div.sk-toggleable {background-color: white;}#sk-container-id-1 label.sk-toggleable__label {cursor: pointer;display: block;width: 100%;margin-bottom: 0;padding: 0.3em;box-sizing: border-box;text-align: center;}#sk-container-id-1 label.sk-toggleable__label-arrow:before {content: \"▸\";float: left;margin-right: 0.25em;color: #696969;}#sk-container-id-1 label.sk-toggleable__label-arrow:hover:before {color: black;}#sk-container-id-1 div.sk-estimator:hover label.sk-toggleable__label-arrow:before {color: black;}#sk-container-id-1 div.sk-toggleable__content {max-height: 0;max-width: 0;overflow: hidden;text-align: left;background-color: #f0f8ff;}#sk-container-id-1 div.sk-toggleable__content pre {margin: 0.2em;color: black;border-radius: 0.25em;background-color: #f0f8ff;}#sk-container-id-1 input.sk-toggleable__control:checked~div.sk-toggleable__content {max-height: 200px;max-width: 100%;overflow: auto;}#sk-container-id-1 input.sk-toggleable__control:checked~label.sk-toggleable__label-arrow:before {content: \"▾\";}#sk-container-id-1 div.sk-estimator input.sk-toggleable__control:checked~label.sk-toggleable__label {background-color: #d4ebff;}#sk-container-id-1 div.sk-label input.sk-toggleable__control:checked~label.sk-toggleable__label {background-color: #d4ebff;}#sk-container-id-1 input.sk-hidden--visually {border: 0;clip: rect(1px 1px 1px 1px);clip: rect(1px, 1px, 1px, 1px);height: 1px;margin: -1px;overflow: hidden;padding: 0;position: absolute;width: 1px;}#sk-container-id-1 div.sk-estimator {font-family: monospace;background-color: #f0f8ff;border: 1px dotted black;border-radius: 0.25em;box-sizing: border-box;margin-bottom: 0.5em;}#sk-container-id-1 div.sk-estimator:hover {background-color: #d4ebff;}#sk-container-id-1 div.sk-parallel-item::after {content: \"\";width: 100%;border-bottom: 1px solid gray;flex-grow: 1;}#sk-container-id-1 div.sk-label:hover label.sk-toggleable__label {background-color: #d4ebff;}#sk-container-id-1 div.sk-serial::before {content: \"\";position: absolute;border-left: 1px solid gray;box-sizing: border-box;top: 0;bottom: 0;left: 50%;z-index: 0;}#sk-container-id-1 div.sk-serial {display: flex;flex-direction: column;align-items: center;background-color: white;padding-right: 0.2em;padding-left: 0.2em;position: relative;}#sk-container-id-1 div.sk-item {position: relative;z-index: 1;}#sk-container-id-1 div.sk-parallel {display: flex;align-items: stretch;justify-content: center;background-color: white;position: relative;}#sk-container-id-1 div.sk-item::before, #sk-container-id-1 div.sk-parallel-item::before {content: \"\";position: absolute;border-left: 1px solid gray;box-sizing: border-box;top: 0;bottom: 0;left: 50%;z-index: -1;}#sk-container-id-1 div.sk-parallel-item {display: flex;flex-direction: column;z-index: 1;position: relative;background-color: white;}#sk-container-id-1 div.sk-parallel-item:first-child::after {align-self: flex-end;width: 50%;}#sk-container-id-1 div.sk-parallel-item:last-child::after {align-self: flex-start;width: 50%;}#sk-container-id-1 div.sk-parallel-item:only-child::after {width: 0;}#sk-container-id-1 div.sk-dashed-wrapped {border: 1px dashed gray;margin: 0 0.4em 0.5em 0.4em;box-sizing: border-box;padding-bottom: 0.4em;background-color: white;}#sk-container-id-1 div.sk-label label {font-family: monospace;font-weight: bold;display: inline-block;line-height: 1.2em;}#sk-container-id-1 div.sk-label-container {text-align: center;}#sk-container-id-1 div.sk-container {/* jupyter's `normalize.less` sets `[hidden] { display: none; }` but bootstrap.min.css set `[hidden] { display: none !important; }` so we also need the `!important` here to be able to override the default hidden behavior on the sphinx rendered scikit-learn.org. See: https://github.com/scikit-learn/scikit-learn/issues/21755 */display: inline-block !important;position: relative;}#sk-container-id-1 div.sk-text-repr-fallback {display: none;}</style><div id=\"sk-container-id-1\" class=\"sk-top-container\"><div class=\"sk-text-repr-fallback\"><pre>LogisticRegression()</pre><b>In a Jupyter environment, please rerun this cell to show the HTML representation or trust the notebook. <br />On GitHub, the HTML representation is unable to render, please try loading this page with nbviewer.org.</b></div><div class=\"sk-container\" hidden><div class=\"sk-item\"><div class=\"sk-estimator sk-toggleable\"><input class=\"sk-toggleable__control sk-hidden--visually\" id=\"sk-estimator-id-1\" type=\"checkbox\" checked><label for=\"sk-estimator-id-1\" class=\"sk-toggleable__label sk-toggleable__label-arrow\">LogisticRegression</label><div class=\"sk-toggleable__content\"><pre>LogisticRegression()</pre></div></div></div></div></div>"
      ],
      "text/plain": [
       "LogisticRegression()"
      ]
     },
     "execution_count": 9,
     "metadata": {},
     "output_type": "execute_result"
    }
   ],
   "source": [
    "# Train a classifier\n",
    "clf = LogisticRegression(solver='lbfgs')  # SVC()\n",
    "clf.fit(data_array, ground_truth)"
   ]
  },
  {
   "cell_type": "markdown",
   "metadata": {},
   "source": [
    "### Grouping for fairness, accountability and transparency ###\n",
    "Let's group the data set based on the `race` feature."
   ]
  },
  {
   "cell_type": "code",
   "execution_count": 10,
   "metadata": {},
   "outputs": [
    {
     "name": "stderr",
     "output_type": "stream",
     "text": [
      "22-Jul-08 20:15:18 fatf.utils.array.tools INFO     Using numpy's numpy.lib.recfunctions.structured_to_unstructured as fatf.utils.array.tools.structured_to_unstructured and fatf.utils.array.tools.structured_to_unstructured_row.\n"
     ]
    }
   ],
   "source": [
    "import fatf.utils.data.tools as fatf_data_tools\n",
    "import fatf.transparency.data.describe_functions as fatf_describe_data"
   ]
  },
  {
   "cell_type": "code",
   "execution_count": 11,
   "metadata": {},
   "outputs": [],
   "source": [
    "race_index = census_names.index('race')"
   ]
  },
  {
   "cell_type": "markdown",
   "metadata": {},
   "source": [
    "#### Grouping for group-based data transparency ####"
   ]
  },
  {
   "cell_type": "code",
   "execution_count": 12,
   "metadata": {},
   "outputs": [],
   "source": [
    "race_grouping = fatf_data_tools.group_by_column(\n",
    "    data_array, race_index, treat_as_categorical=True)"
   ]
  },
  {
   "cell_type": "code",
   "execution_count": 13,
   "metadata": {},
   "outputs": [
    {
     "data": {
      "text/plain": [
       "['(0,)', '(1,)', '(2,)', '(3,)', '(4,)']"
      ]
     },
     "execution_count": 13,
     "metadata": {},
     "output_type": "execute_result"
    }
   ],
   "source": [
    "# race_grouping\n",
    "race_grouping[1]"
   ]
  },
  {
   "cell_type": "code",
   "execution_count": 14,
   "metadata": {},
   "outputs": [
    {
     "data": {
      "text/plain": [
       "array(['Amer-Indian-Eskimo', 'Asian-Pac-Islander', 'Black', 'Other',\n",
       "       'White'], dtype=object)"
      ]
     },
     "execution_count": 14,
     "metadata": {},
     "output_type": "execute_result"
    }
   ],
   "source": [
    "features_unique['race']"
   ]
  },
  {
   "cell_type": "code",
   "execution_count": 15,
   "metadata": {},
   "outputs": [
    {
     "data": {
      "text/plain": [
       "array(['Ame-Ind-Esk', 'Asi-Pac-Isl', 'Black', 'Other', 'White'],\n",
       "      dtype='<U11')"
      ]
     },
     "execution_count": 15,
     "metadata": {},
     "output_type": "execute_result"
    }
   ],
   "source": [
    "features_unique['race'] = np.array(\n",
    "    ['-'.join(j[:3] for j in i.split('-')) if '-' in i else i for i in features_unique['race']])\n",
    "features_unique['race']"
   ]
  },
  {
   "cell_type": "code",
   "execution_count": 16,
   "metadata": {},
   "outputs": [
    {
     "name": "stdout",
     "output_type": "stream",
     "text": [
      "Ame-Ind-Esk\n"
     ]
    },
    {
     "data": {
      "image/png": "[encoded data removed]",
      "text/plain": [
       "<Figure size 144x288 with 1 Axes>"
      ]
     },
     "metadata": {},
     "output_type": "display_data"
    },
    {
     "name": "stdout",
     "output_type": "stream",
     "text": [
      "Asi-Pac-Isl\n"
     ]
    },
    {
     "data": {
      "image/png": "[encoded data removed]",
      "text/plain": [
       "<Figure size 144x288 with 1 Axes>"
      ]
     },
     "metadata": {},
     "output_type": "display_data"
    },
    {
     "name": "stdout",
     "output_type": "stream",
     "text": [
      "Black\n"
     ]
    },
    {
     "data": {
      "image/png": "[encoded data removed]",
      "text/plain": [
       "<Figure size 144x288 with 1 Axes>"
      ]
     },
     "metadata": {},
     "output_type": "display_data"
    },
    {
     "name": "stdout",
     "output_type": "stream",
     "text": [
      "Other\n"
     ]
    },
    {
     "data": {
      "image/png": "[encoded data removed]",
      "text/plain": [
       "<Figure size 144x288 with 1 Axes>"
      ]
     },
     "metadata": {},
     "output_type": "display_data"
    },
    {
     "name": "stdout",
     "output_type": "stream",
     "text": [
      "White\n"
     ]
    },
    {
     "data": {
      "image/png": "[encoded data removed]",
      "text/plain": [
       "<Figure size 144x288 with 1 Axes>"
      ]
     },
     "metadata": {},
     "output_type": "display_data"
    }
   ],
   "source": [
    "for i, race in enumerate(features_unique['race']):\n",
    "    desc = fatf_describe_data.describe_categorical_array(\n",
    "        ground_truth[race_grouping[0][i]].astype('str'))\n",
    "    \n",
    "    print(race)\n",
    "    plt.figure(figsize=(2, 4))\n",
    "    sns.barplot(\n",
    "        x=features_unique['income'],\n",
    "        y=desc['unique_counts'],\n",
    "        palette=[colours[2], colours[0]])\n",
    "    # plt.title(race)\n",
    "    plt.xticks(fontsize=14)\n",
    "    plt.yticks(fontsize=14)\n",
    "    plt.savefig(\n",
    "        f'group_transparency_{race}.pdf', dpi=300, bbox_inches='tight', pad_inches=0)\n",
    "    plt.show()"
   ]
  },
  {
   "cell_type": "markdown",
   "metadata": {},
   "source": [
    "#### Grouping for group-based fairness ####"
   ]
  },
  {
   "cell_type": "code",
   "execution_count": 17,
   "metadata": {},
   "outputs": [],
   "source": [
    "import fatf.fairness.models.measures as fatf_fairness_models\n",
    "\n",
    "import fatf.utils.metrics.tools as fatf_metric_tools\n",
    "import fatf.utils.metrics.metrics as fatf_performance_metrics"
   ]
  },
  {
   "cell_type": "code",
   "execution_count": 18,
   "metadata": {},
   "outputs": [],
   "source": [
    "adult_predictions = clf.predict(data_array)"
   ]
  },
  {
   "cell_type": "code",
   "execution_count": 19,
   "metadata": {},
   "outputs": [],
   "source": [
    "confusion_matrix = fatf_metric_tools.get_confusion_matrix(\n",
    "    ground_truth, adult_predictions)"
   ]
  },
  {
   "cell_type": "code",
   "execution_count": 20,
   "metadata": {},
   "outputs": [
    {
     "data": {
      "text/plain": [
       "0.7957372316575044"
      ]
     },
     "execution_count": 20,
     "metadata": {},
     "output_type": "execute_result"
    }
   ],
   "source": [
    "fatf_performance_metrics.accuracy(confusion_matrix)"
   ]
  },
  {
   "cell_type": "code",
   "execution_count": 21,
   "metadata": {},
   "outputs": [],
   "source": [
    "race_cm = fatf_metric_tools.confusion_matrix_per_subgroup_indexed(\n",
    "    race_grouping[0],\n",
    "    ground_truth,\n",
    "    adult_predictions,\n",
    "    labels=np.unique(ground_truth).tolist())"
   ]
  },
  {
   "cell_type": "code",
   "execution_count": 22,
   "metadata": {},
   "outputs": [],
   "source": [
    "race_equal_accuracy = fatf_fairness_models.equal_accuracy(race_cm, tolerance=0.14)"
   ]
  },
  {
   "cell_type": "code",
   "execution_count": 23,
   "metadata": {},
   "outputs": [
    {
     "data": {
      "text/plain": [
       "array([[False, False, False, False, False],\n",
       "       [False, False, False,  True, False],\n",
       "       [False, False, False, False, False],\n",
       "       [False,  True, False, False, False],\n",
       "       [False, False, False, False, False]])"
      ]
     },
     "execution_count": 23,
     "metadata": {},
     "output_type": "execute_result"
    }
   ],
   "source": [
    "race_equal_accuracy"
   ]
  },
  {
   "cell_type": "code",
   "execution_count": 24,
   "metadata": {},
   "outputs": [
    {
     "data": {
      "image/png": "[encoded data removed]",
      "text/plain": [
       "<Figure size 144x144 with 2 Axes>"
      ]
     },
     "metadata": {},
     "output_type": "display_data"
    }
   ],
   "source": [
    "f = plt.figure(figsize=(2, 2))\n",
    "sns.heatmap(\n",
    "    race_equal_accuracy,\n",
    "    square=True,\n",
    "    xticklabels=features_unique['race'],\n",
    "    yticklabels=features_unique['race'],\n",
    "    cmap=cmap_green_red,\n",
    "    cbar_kws=dict(ticks=[0, 1]),\n",
    "    vmin=0, vmax=1, center=.5)\n",
    "plt.xticks(fontsize=14)\n",
    "plt.yticks(fontsize=14)\n",
    "f.axes[1].tick_params(labelsize=14)\n",
    "plt.savefig(\n",
    "    f'fairness_race_equal_accuracy.pdf',\n",
    "    dpi=300,\n",
    "    bbox_inches='tight',\n",
    "    pad_inches=0)"
   ]
  },
  {
   "cell_type": "code",
   "execution_count": 25,
   "metadata": {},
   "outputs": [],
   "source": [
    "race_equal_opportunity = fatf_fairness_models.equal_opportunity(\n",
    "    race_cm, tolerance=0.14)"
   ]
  },
  {
   "cell_type": "code",
   "execution_count": 26,
   "metadata": {},
   "outputs": [
    {
     "data": {
      "text/plain": [
       "array([[False, False, False, False, False],\n",
       "       [False, False, False, False, False],\n",
       "       [False, False, False, False, False],\n",
       "       [False, False, False, False, False],\n",
       "       [False, False, False, False, False]])"
      ]
     },
     "execution_count": 26,
     "metadata": {},
     "output_type": "execute_result"
    }
   ],
   "source": [
    "race_equal_opportunity"
   ]
  },
  {
   "cell_type": "code",
   "execution_count": 27,
   "metadata": {},
   "outputs": [
    {
     "data": {
      "image/png": "[encoded data removed]",
      "text/plain": [
       "<Figure size 144x144 with 2 Axes>"
      ]
     },
     "metadata": {},
     "output_type": "display_data"
    }
   ],
   "source": [
    "f = plt.figure(figsize=(2, 2))\n",
    "sns.heatmap(\n",
    "    race_equal_opportunity,\n",
    "    square=True,\n",
    "    xticklabels=features_unique['race'],\n",
    "    yticklabels=features_unique['race'],\n",
    "    cmap=cmap_green_red,\n",
    "    cbar_kws=dict(ticks=[0, 1]),\n",
    "    vmin=0, vmax=1, center=.5)\n",
    "plt.xticks(fontsize=14)\n",
    "plt.yticks(fontsize=14)\n",
    "f.axes[1].tick_params(labelsize=14)\n",
    "plt.savefig(\n",
    "    f'fairness_race_equal_opportunity.pdf',\n",
    "    dpi=300,\n",
    "    bbox_inches='tight',\n",
    "    pad_inches=0)"
   ]
  },
  {
   "cell_type": "code",
   "execution_count": 28,
   "metadata": {},
   "outputs": [],
   "source": [
    "race_demographic_parity = fatf_fairness_models.demographic_parity(\n",
    "    race_cm, tolerance=0.14)"
   ]
  },
  {
   "cell_type": "code",
   "execution_count": 29,
   "metadata": {},
   "outputs": [
    {
     "data": {
      "text/plain": [
       "array([[False, False, False, False, False],\n",
       "       [False, False, False,  True, False],\n",
       "       [False, False, False, False, False],\n",
       "       [False,  True, False, False,  True],\n",
       "       [False, False, False,  True, False]])"
      ]
     },
     "execution_count": 29,
     "metadata": {},
     "output_type": "execute_result"
    }
   ],
   "source": [
    "race_demographic_parity"
   ]
  },
  {
   "cell_type": "code",
   "execution_count": 30,
   "metadata": {},
   "outputs": [
    {
     "data": {
      "image/png": "[encoded data removed]",
      "text/plain": [
       "<Figure size 144x144 with 2 Axes>"
      ]
     },
     "metadata": {},
     "output_type": "display_data"
    }
   ],
   "source": [
    "f = plt.figure(figsize=(2, 2))\n",
    "sns.heatmap(\n",
    "    race_demographic_parity,\n",
    "    square=True,\n",
    "    xticklabels=features_unique['race'],\n",
    "    yticklabels=features_unique['race'],\n",
    "    cmap=cmap_green_red,\n",
    "    cbar_kws=dict(ticks=[0, 1]),\n",
    "    vmin=0, vmax=1, center=.5)\n",
    "plt.xticks(fontsize=14)\n",
    "plt.yticks(fontsize=14)\n",
    "f.axes[1].tick_params(labelsize=14)\n",
    "plt.savefig(\n",
    "    f'fairness_race_demographic_parity.pdf',\n",
    "    dpi=300,\n",
    "    bbox_inches='tight',\n",
    "    pad_inches=0)"
   ]
  },
  {
   "cell_type": "markdown",
   "metadata": {},
   "source": [
    "#### Grouping for group-based performance disparity ####"
   ]
  },
  {
   "cell_type": "code",
   "execution_count": 31,
   "metadata": {},
   "outputs": [],
   "source": [
    "import fatf.utils.metrics.subgroup_metrics as subgroup_metrics\n",
    "import fatf.accountability.models.measures as fatf_accountability_models_measures"
   ]
  },
  {
   "cell_type": "code",
   "execution_count": 32,
   "metadata": {},
   "outputs": [],
   "source": [
    "race_accuracy = subgroup_metrics.apply_metric(\n",
    "    race_cm, metric='accuracy')"
   ]
  },
  {
   "cell_type": "code",
   "execution_count": 33,
   "metadata": {},
   "outputs": [],
   "source": [
    "race_accuracy_bias = fatf_accountability_models_measures.systematic_performance_bias_grid(\n",
    "    race_accuracy, threshold=0.83)"
   ]
  },
  {
   "cell_type": "code",
   "execution_count": 34,
   "metadata": {},
   "outputs": [
    {
     "data": {
      "image/png": "[encoded data removed]",
      "text/plain": [
       "<Figure size 144x144 with 2 Axes>"
      ]
     },
     "metadata": {},
     "output_type": "display_data"
    }
   ],
   "source": [
    "f = plt.figure(figsize=(2, 2))\n",
    "sns.heatmap(\n",
    "    race_accuracy_bias,\n",
    "    square=True,\n",
    "    xticklabels=features_unique['race'],\n",
    "    yticklabels=features_unique['race'],\n",
    "    cmap=cmap_green_red,\n",
    "    cbar_kws=dict(ticks=[0, 1]),\n",
    "    vmin=0, vmax=1, center=.5)\n",
    "plt.xticks(fontsize=14)\n",
    "plt.yticks(fontsize=14)\n",
    "f.axes[1].tick_params(labelsize=14)\n",
    "plt.savefig(\n",
    "    f'performance_accuracy_bias.pdf',\n",
    "    dpi=300,\n",
    "    bbox_inches='tight',\n",
    "    pad_inches=0)"
   ]
  },
  {
   "cell_type": "code",
   "execution_count": 35,
   "metadata": {},
   "outputs": [],
   "source": [
    "race_tnr = subgroup_metrics.apply_metric(\n",
    "    race_cm, metric='true negative rate')"
   ]
  },
  {
   "cell_type": "code",
   "execution_count": 36,
   "metadata": {},
   "outputs": [],
   "source": [
    "race_tnr_bias = fatf_accountability_models_measures.systematic_performance_bias_grid(\n",
    "    race_tnr, threshold=0.83)"
   ]
  },
  {
   "cell_type": "code",
   "execution_count": 37,
   "metadata": {},
   "outputs": [
    {
     "data": {
      "image/png": "[encoded data removed]",
      "text/plain": [
       "<Figure size 144x144 with 2 Axes>"
      ]
     },
     "metadata": {},
     "output_type": "display_data"
    }
   ],
   "source": [
    "f = plt.figure(figsize=(2, 2))\n",
    "sns.heatmap(\n",
    "    race_tnr_bias,\n",
    "    square=True,\n",
    "    xticklabels=features_unique['race'],\n",
    "    yticklabels=features_unique['race'],\n",
    "    cmap=cmap_green_red,\n",
    "    cbar_kws=dict(ticks=[0, 1]),\n",
    "    vmin=0, vmax=1, center=.5)\n",
    "plt.xticks(fontsize=14)\n",
    "plt.yticks(fontsize=14)\n",
    "f.axes[1].tick_params(labelsize=14)\n",
    "plt.savefig(\n",
    "    f'performance_tnr_bias.pdf',\n",
    "    dpi=300,\n",
    "    bbox_inches='tight',\n",
    "    pad_inches=0)"
   ]
  },
  {
   "cell_type": "markdown",
   "metadata": {},
   "source": [
    "### Data density for robust and feasible counterfactuals ###"
   ]
  },
  {
   "cell_type": "markdown",
   "metadata": {},
   "source": [
    "#### Assess robustness of a prediction with data density ####"
   ]
  },
  {
   "cell_type": "code",
   "execution_count": 38,
   "metadata": {},
   "outputs": [],
   "source": [
    "import fatf.utils.data.density as fatf_density"
   ]
  },
  {
   "cell_type": "code",
   "execution_count": 39,
   "metadata": {},
   "outputs": [],
   "source": [
    "adult_density = fatf_density.DensityCheck(\n",
    "    data_array[:1000, :],  # 10000\n",
    "    distance_function=scipy.spatial.distance.euclidean)"
   ]
  },
  {
   "cell_type": "code",
   "execution_count": 40,
   "metadata": {},
   "outputs": [],
   "source": [
    "data_point_index_dense_1 = 42\n",
    "data_point_index_dense_2 = 142\n",
    "data_point_index_sparse_1 = 5369  # 414\n",
    "data_point_index_sparse_2 = 8258  # 1597"
   ]
  },
  {
   "cell_type": "code",
   "execution_count": 41,
   "metadata": {},
   "outputs": [
    {
     "name": "stdout",
     "output_type": "stream",
     "text": [
      "Data point index: 42\n",
      "Density score: 0.0017474497191807704\n",
      "Ground truth: 0\n",
      "Prediction: 0\n",
      "\n",
      "-----------------------\n",
      "\n",
      "Data point index: 142\n",
      "Density score: 0.002352305557595431\n",
      "Ground truth: 0\n",
      "Prediction: 0\n",
      "\n",
      "-----------------------\n",
      "\n",
      "Data point index: 5369\n",
      "Density score: 1\n",
      "Ground truth: 0\n",
      "Prediction: 0\n",
      "\n",
      "-----------------------\n",
      "\n",
      "Data point index: 8258\n",
      "Density score: 1\n",
      "Ground truth: 1\n",
      "Prediction: 0\n",
      "\n",
      "-----------------------\n",
      "\n"
     ]
    }
   ],
   "source": [
    "for i in [data_point_index_dense_1,\n",
    "          data_point_index_dense_2,\n",
    "          data_point_index_sparse_1,\n",
    "          data_point_index_sparse_2]:\n",
    "    x = data_array[i, :]\n",
    "    print('Data point index: {}'.format(i))\n",
    "    print('Density score: {}'.format(adult_density.score_data_point(x)))\n",
    "    print('Ground truth: {}'.format(ground_truth[i]))\n",
    "    print('Prediction: {}'.format(clf.predict([x])[0]))\n",
    "    print('\\n-----------------------\\n')"
   ]
  },
  {
   "cell_type": "code",
   "execution_count": 42,
   "metadata": {},
   "outputs": [
    {
     "data": {
      "text/plain": [
       "age                               35\n",
       "workclass                    Private\n",
       "fnlwgt                       1226583\n",
       "education                  Bachelors\n",
       "education-num                     13\n",
       "marital-status    Married-civ-spouse\n",
       "occupation                     Sales\n",
       "relationship                 Husband\n",
       "race                           White\n",
       "sex                             Male\n",
       "capital-gain                       0\n",
       "capital-loss                       0\n",
       "hours-per-week                    52\n",
       "native-country         United-States\n",
       "income                          >50K\n",
       "Name: 8258, dtype: object"
      ]
     },
     "execution_count": 42,
     "metadata": {},
     "output_type": "execute_result"
    }
   ],
   "source": [
    "df_unmapped.iloc[data_point_index_sparse_2]"
   ]
  },
  {
   "cell_type": "code",
   "execution_count": 43,
   "metadata": {},
   "outputs": [
    {
     "data": {
      "text/plain": [
       "count    3.256100e+04\n",
       "mean     1.897784e+05\n",
       "std      1.055500e+05\n",
       "min      1.228500e+04\n",
       "25%      1.178270e+05\n",
       "50%      1.783560e+05\n",
       "75%      2.370510e+05\n",
       "max      1.484705e+06\n",
       "Name: fnlwgt, dtype: float64"
      ]
     },
     "execution_count": 43,
     "metadata": {},
     "output_type": "execute_result"
    }
   ],
   "source": [
    "df_unmapped.fnlwgt.describe()"
   ]
  },
  {
   "cell_type": "code",
   "execution_count": 44,
   "metadata": {},
   "outputs": [
    {
     "data": {
      "text/plain": [
       "99.98771536500722"
      ]
     },
     "execution_count": 44,
     "metadata": {},
     "output_type": "execute_result"
    }
   ],
   "source": [
    "scipy.stats.percentileofscore(\n",
    "    df_unmapped.fnlwgt.values,\n",
    "    1226583)"
   ]
  },
  {
   "cell_type": "markdown",
   "metadata": {},
   "source": [
    "#### Assess feasibility of a counterfactual with data density ####"
   ]
  },
  {
   "cell_type": "code",
   "execution_count": 45,
   "metadata": {},
   "outputs": [],
   "source": [
    "import fatf.transparency.predictions.counterfactuals as fatf_cf"
   ]
  },
  {
   "cell_type": "code",
   "execution_count": 46,
   "metadata": {},
   "outputs": [],
   "source": [
    "categorical_features = [\n",
    "    i for i, f_name in\n",
    "    enumerate(census_names)\n",
    "    if f_name in features_unique and f_name != 'income']"
   ]
  },
  {
   "cell_type": "code",
   "execution_count": 47,
   "metadata": {},
   "outputs": [],
   "source": [
    "cf_explainer = fatf_cf.CounterfactualExplainer(\n",
    "    model=clf,\n",
    "    dataset=data_array,\n",
    "    categorical_indices=categorical_features,\n",
    "    default_numerical_step_size=100,\n",
    "    step_sizes={census_names.index('age'): 5,\n",
    "                census_names.index('fnlwgt'): 100,\n",
    "                census_names.index('education-num'): 5,\n",
    "                census_names.index('capital-gain'): 1000,\n",
    "                census_names.index('capital-loss'): 1000,\n",
    "                census_names.index('hours-per-week'): 2})"
   ]
  },
  {
   "cell_type": "code",
   "execution_count": 48,
   "metadata": {},
   "outputs": [],
   "source": [
    "cf_explanations = cf_explainer.explain_instance(\n",
    "    data_array[data_point_index_sparse_2, :])"
   ]
  },
  {
   "cell_type": "code",
   "execution_count": 49,
   "metadata": {},
   "outputs": [
    {
     "data": {
      "text/plain": [
       "(array([[     35,       2, 1226583, ...,    4000,      52,       0],\n",
       "        [     35,       2, 1226583, ...,       0,      52,       0],\n",
       "        [     35,       2, 1226583, ...,       0,      52,       0],\n",
       "        ...,\n",
       "        [     35,       2, 1226583, ...,       0,      52,       0],\n",
       "        [     37,       2, 1226583, ...,       0,      52,       0],\n",
       "        [     35,       2,  430985, ...,    4000,      52,       0]]),\n",
       " array([ 21000,  25000,  25001,  25001,  25001,  25001,  25001,  25001,\n",
       "         25001,  25001,  25001,  25001,  25001,  25001,  25001,  25001,\n",
       "         25001,  25001,  25001,  25001,  25001,  25001,  25001,  25001,\n",
       "         25001,  25001,  25001,  25001,  25001,  25001,  25001,  25001,\n",
       "         25001,  25001,  25001,  25001,  25001,  25001,  25001,  25001,\n",
       "         25001,  25001,  25001,  25001,  25001,  25001,  25001,  25001,\n",
       "         25001,  25001,  25001,  25001,  25001,  25001,  25001,  25001,\n",
       "         25001,  25001,  25001,  25001,  25001,  25001,  25001,  25001,\n",
       "         25001,  25001,  25001,  25001,  25001,  25001,  25001,  25001,\n",
       "         25001,  25001,  25001,  25001,  25001,  25001,  25001,  25001,\n",
       "         25001,  25001,  25001,  25001,  25001,  25001,  25001,  25001,\n",
       "         25001,  25001,  25001,  25001,  25001,  25001,  25001,  25001,\n",
       "         25001,  25001,  25002,  25002,  25002, 799598]),\n",
       " array([1, 1, 1, 1, 1, 1, 1, 1, 1, 1, 1, 1, 1, 1, 1, 1, 1, 1, 1, 1, 1, 1,\n",
       "        1, 1, 1, 1, 1, 1, 1, 1, 1, 1, 1, 1, 1, 1, 1, 1, 1, 1, 1, 1, 1, 1,\n",
       "        1, 1, 1, 1, 1, 1, 1, 1, 1, 1, 1, 1, 1, 1, 1, 1, 1, 1, 1, 1, 1, 1,\n",
       "        1, 1, 1, 1, 1, 1, 1, 1, 1, 1, 1, 1, 1, 1, 1, 1, 1, 1, 1, 1, 1, 1,\n",
       "        1, 1, 1, 1, 1, 1, 1, 1, 1, 1, 1, 1, 1, 1]))"
      ]
     },
     "execution_count": 49,
     "metadata": {},
     "output_type": "execute_result"
    }
   ],
   "source": [
    "cf_explanations"
   ]
  },
  {
   "cell_type": "code",
   "execution_count": 50,
   "metadata": {},
   "outputs": [
    {
     "name": "stdout",
     "output_type": "stream",
     "text": [
      "Instance (of class *0*):\n",
      "[     35       2 1226583       9      13       2       5       0       4\n",
      "       1       0       0      52       0]\n",
      "\n",
      "Feature names: [0, 1, 2, 3, 4, 5, 6, 7, 8, 9, 10, 11, 12, 13]\n",
      "\n",
      "Counterfactual instance (of class *1*):\n",
      "Distance: 21000\n",
      "    feature *10*: *0* -> *17000*\n",
      "    feature *11*: *0* -> *4000*\n",
      "\n",
      "Counterfactual instance (of class *1*):\n",
      "Distance: 25000\n",
      "    feature *10*: *0* -> *25000*\n",
      "\n",
      "Counterfactual instance (of class *1*):\n",
      "Distance: 25001\n",
      "    feature *1*: *2* -> *1*\n",
      "    feature *10*: *0* -> *25000*\n",
      "\n",
      "Counterfactual instance (of class *1*):\n",
      "Distance: 25001\n",
      "    feature *3*: *9* -> *0*\n",
      "    feature *10*: *0* -> *25000*\n",
      "\n",
      "Counterfactual instance (of class *1*):\n",
      "Distance: 25001\n",
      "    feature *3*: *9* -> *1*\n",
      "    feature *10*: *0* -> *25000*\n",
      "\n",
      "Counterfactual instance (of class *1*):\n",
      "Distance: 25001\n",
      "    feature *3*: *9* -> *2*\n",
      "    feature *10*: *0* -> *25000*\n",
      "\n",
      "Counterfactual instance (of class *1*):\n",
      "Distance: 25001\n",
      "    feature *3*: *9* -> *3*\n",
      "    feature *10*: *0* -> *25000*\n",
      "\n",
      "Counterfactual instance (of class *1*):\n",
      "Distance: 25001\n",
      "    feature *3*: *9* -> *4*\n",
      "    feature *10*: *0* -> *25000*\n",
      "\n",
      "Counterfactual instance (of class *1*):\n",
      "Distance: 25001\n",
      "    feature *3*: *9* -> *5*\n",
      "    feature *10*: *0* -> *25000*\n",
      "\n",
      "Counterfactual instance (of class *1*):\n",
      "Distance: 25001\n",
      "    feature *3*: *9* -> *6*\n",
      "    feature *10*: *0* -> *25000*\n",
      "\n",
      "Counterfactual instance (of class *1*):\n",
      "Distance: 25001\n",
      "    feature *3*: *9* -> *7*\n",
      "    feature *10*: *0* -> *25000*\n",
      "\n",
      "Counterfactual instance (of class *1*):\n",
      "Distance: 25001\n",
      "    feature *5*: *2* -> *0*\n",
      "    feature *10*: *0* -> *25000*\n",
      "\n",
      "Counterfactual instance (of class *1*):\n",
      "Distance: 25001\n",
      "    feature *1*: *2* -> *8*\n",
      "    feature *10*: *0* -> *25000*\n",
      "\n",
      "Counterfactual instance (of class *1*):\n",
      "Distance: 25001\n",
      "    feature *5*: *2* -> *1*\n",
      "    feature *10*: *0* -> *25000*\n",
      "\n",
      "Counterfactual instance (of class *1*):\n",
      "Distance: 25001\n",
      "    feature *6*: *5* -> *0*\n",
      "    feature *10*: *0* -> *25000*\n",
      "\n",
      "Counterfactual instance (of class *1*):\n",
      "Distance: 25001\n",
      "    feature *6*: *5* -> *1*\n",
      "    feature *10*: *0* -> *25000*\n",
      "\n",
      "Counterfactual instance (of class *1*):\n",
      "Distance: 25001\n",
      "    feature *6*: *5* -> *2*\n",
      "    feature *10*: *0* -> *25000*\n",
      "\n",
      "Counterfactual instance (of class *1*):\n",
      "Distance: 25001\n",
      "    feature *6*: *5* -> *3*\n",
      "    feature *10*: *0* -> *25000*\n",
      "\n",
      "Counterfactual instance (of class *1*):\n",
      "Distance: 25001\n",
      "    feature *6*: *5* -> *4*\n",
      "    feature *10*: *0* -> *25000*\n",
      "\n",
      "Counterfactual instance (of class *1*):\n",
      "Distance: 25001\n",
      "    feature *8*: *4* -> *0*\n",
      "    feature *10*: *0* -> *25000*\n",
      "\n",
      "Counterfactual instance (of class *1*):\n",
      "Distance: 25001\n",
      "    feature *8*: *4* -> *1*\n",
      "    feature *10*: *0* -> *25000*\n",
      "\n",
      "Counterfactual instance (of class *1*):\n",
      "Distance: 25001\n",
      "    feature *8*: *4* -> *2*\n",
      "    feature *10*: *0* -> *25000*\n",
      "\n",
      "Counterfactual instance (of class *1*):\n",
      "Distance: 25001\n",
      "    feature *3*: *9* -> *8*\n",
      "    feature *10*: *0* -> *25000*\n",
      "\n",
      "Counterfactual instance (of class *1*):\n",
      "Distance: 25001\n",
      "    feature *9*: *1* -> *0*\n",
      "    feature *10*: *0* -> *25000*\n",
      "\n",
      "Counterfactual instance (of class *1*):\n",
      "Distance: 25001\n",
      "    feature *8*: *4* -> *3*\n",
      "    feature *10*: *0* -> *25000*\n",
      "\n",
      "Counterfactual instance (of class *1*):\n",
      "Distance: 25001\n",
      "    feature *10*: *0* -> *25000*\n",
      "    feature *13*: *0* -> *1*\n",
      "\n",
      "Counterfactual instance (of class *1*):\n",
      "Distance: 25001\n",
      "    feature *10*: *0* -> *25000*\n",
      "    feature *13*: *0* -> *2*\n",
      "\n",
      "Counterfactual instance (of class *1*):\n",
      "Distance: 25001\n",
      "    feature *10*: *0* -> *25000*\n",
      "    feature *13*: *0* -> *3*\n",
      "\n",
      "Counterfactual instance (of class *1*):\n",
      "Distance: 25001\n",
      "    feature *10*: *0* -> *25000*\n",
      "    feature *13*: *0* -> *4*\n",
      "\n",
      "Counterfactual instance (of class *1*):\n",
      "Distance: 25001\n",
      "    feature *10*: *0* -> *25000*\n",
      "    feature *13*: *0* -> *5*\n",
      "\n",
      "Counterfactual instance (of class *1*):\n",
      "Distance: 25001\n",
      "    feature *10*: *0* -> *25000*\n",
      "    feature *13*: *0* -> *6*\n",
      "\n",
      "Counterfactual instance (of class *1*):\n",
      "Distance: 25001\n",
      "    feature *10*: *0* -> *25000*\n",
      "    feature *13*: *0* -> *7*\n",
      "\n",
      "Counterfactual instance (of class *1*):\n",
      "Distance: 25001\n",
      "    feature *10*: *0* -> *25000*\n",
      "    feature *13*: *0* -> *8*\n",
      "\n",
      "Counterfactual instance (of class *1*):\n",
      "Distance: 25001\n",
      "    feature *10*: *0* -> *25000*\n",
      "    feature *13*: *0* -> *9*\n",
      "\n",
      "Counterfactual instance (of class *1*):\n",
      "Distance: 25001\n",
      "    feature *10*: *0* -> *25000*\n",
      "    feature *13*: *0* -> *10*\n",
      "\n",
      "Counterfactual instance (of class *1*):\n",
      "Distance: 25001\n",
      "    feature *10*: *0* -> *25000*\n",
      "    feature *13*: *0* -> *11*\n",
      "\n",
      "Counterfactual instance (of class *1*):\n",
      "Distance: 25001\n",
      "    feature *10*: *0* -> *25000*\n",
      "    feature *13*: *0* -> *12*\n",
      "\n",
      "Counterfactual instance (of class *1*):\n",
      "Distance: 25001\n",
      "    feature *10*: *0* -> *25000*\n",
      "    feature *12*: *52* -> *51*\n",
      "\n",
      "Counterfactual instance (of class *1*):\n",
      "Distance: 25001\n",
      "    feature *10*: *0* -> *25000*\n",
      "    feature *13*: *0* -> *13*\n",
      "\n",
      "Counterfactual instance (of class *1*):\n",
      "Distance: 25001\n",
      "    feature *10*: *0* -> *25000*\n",
      "    feature *13*: *0* -> *14*\n",
      "\n",
      "Counterfactual instance (of class *1*):\n",
      "Distance: 25001\n",
      "    feature *10*: *0* -> *25000*\n",
      "    feature *13*: *0* -> *15*\n",
      "\n",
      "Counterfactual instance (of class *1*):\n",
      "Distance: 25001\n",
      "    feature *10*: *0* -> *25000*\n",
      "    feature *13*: *0* -> *16*\n",
      "\n",
      "Counterfactual instance (of class *1*):\n",
      "Distance: 25001\n",
      "    feature *10*: *0* -> *25000*\n",
      "    feature *13*: *0* -> *17*\n",
      "\n",
      "Counterfactual instance (of class *1*):\n",
      "Distance: 25001\n",
      "    feature *10*: *0* -> *25000*\n",
      "    feature *13*: *0* -> *18*\n",
      "\n",
      "Counterfactual instance (of class *1*):\n",
      "Distance: 25001\n",
      "    feature *10*: *0* -> *25000*\n",
      "    feature *13*: *0* -> *19*\n",
      "\n",
      "Counterfactual instance (of class *1*):\n",
      "Distance: 25001\n",
      "    feature *10*: *0* -> *25000*\n",
      "    feature *13*: *0* -> *20*\n",
      "\n",
      "Counterfactual instance (of class *1*):\n",
      "Distance: 25001\n",
      "    feature *10*: *0* -> *25000*\n",
      "    feature *13*: *0* -> *21*\n",
      "\n",
      "Counterfactual instance (of class *1*):\n",
      "Distance: 25001\n",
      "    feature *10*: *0* -> *25000*\n",
      "    feature *13*: *0* -> *22*\n",
      "\n",
      "Counterfactual instance (of class *1*):\n",
      "Distance: 25001\n",
      "    feature *10*: *0* -> *25000*\n",
      "    feature *13*: *0* -> *23*\n",
      "\n",
      "Counterfactual instance (of class *1*):\n",
      "Distance: 25001\n",
      "    feature *10*: *0* -> *25000*\n",
      "    feature *13*: *0* -> *24*\n",
      "\n",
      "Counterfactual instance (of class *1*):\n",
      "Distance: 25001\n",
      "    feature *10*: *0* -> *25000*\n",
      "    feature *13*: *0* -> *25*\n",
      "\n",
      "Counterfactual instance (of class *1*):\n",
      "Distance: 25001\n",
      "    feature *10*: *0* -> *25000*\n",
      "    feature *13*: *0* -> *36*\n",
      "\n",
      "Counterfactual instance (of class *1*):\n",
      "Distance: 25001\n",
      "    feature *10*: *0* -> *25000*\n",
      "    feature *13*: *0* -> *26*\n",
      "\n",
      "Counterfactual instance (of class *1*):\n",
      "Distance: 25001\n",
      "    feature *10*: *0* -> *25000*\n",
      "    feature *13*: *0* -> *27*\n",
      "\n",
      "Counterfactual instance (of class *1*):\n",
      "Distance: 25001\n",
      "    feature *10*: *0* -> *25000*\n",
      "    feature *13*: *0* -> *28*\n",
      "\n",
      "Counterfactual instance (of class *1*):\n",
      "Distance: 25001\n",
      "    feature *10*: *0* -> *25000*\n",
      "    feature *13*: *0* -> *29*\n",
      "\n",
      "Counterfactual instance (of class *1*):\n",
      "Distance: 25001\n",
      "    feature *10*: *0* -> *25000*\n",
      "    feature *13*: *0* -> *30*\n",
      "\n",
      "Counterfactual instance (of class *1*):\n",
      "Distance: 25001\n",
      "    feature *10*: *0* -> *25000*\n",
      "    feature *13*: *0* -> *31*\n",
      "\n",
      "Counterfactual instance (of class *1*):\n",
      "Distance: 25001\n",
      "    feature *10*: *0* -> *25000*\n",
      "    feature *13*: *0* -> *32*\n",
      "\n",
      "Counterfactual instance (of class *1*):\n",
      "Distance: 25001\n",
      "    feature *10*: *0* -> *25000*\n",
      "    feature *13*: *0* -> *33*\n",
      "\n",
      "Counterfactual instance (of class *1*):\n",
      "Distance: 25001\n",
      "    feature *10*: *0* -> *25000*\n",
      "    feature *13*: *0* -> *34*\n",
      "\n",
      "Counterfactual instance (of class *1*):\n",
      "Distance: 25001\n",
      "    feature *10*: *0* -> *25000*\n",
      "    feature *13*: *0* -> *35*\n",
      "\n",
      "Counterfactual instance (of class *1*):\n",
      "Distance: 25001\n",
      "    feature *10*: *0* -> *25000*\n",
      "    feature *13*: *0* -> *37*\n",
      "\n",
      "Counterfactual instance (of class *1*):\n",
      "Distance: 25001\n",
      "    feature *7*: *0* -> *5*\n",
      "    feature *10*: *0* -> *25000*\n",
      "\n",
      "Counterfactual instance (of class *1*):\n",
      "Distance: 25001\n",
      "    feature *10*: *0* -> *25000*\n",
      "    feature *13*: *0* -> *38*\n",
      "\n",
      "Counterfactual instance (of class *1*):\n",
      "Distance: 25001\n",
      "    feature *10*: *0* -> *25000*\n",
      "    feature *13*: *0* -> *39*\n",
      "\n",
      "Counterfactual instance (of class *1*):\n",
      "Distance: 25001\n",
      "    feature *10*: *0* -> *25000*\n",
      "    feature *13*: *0* -> *40*\n",
      "\n",
      "Counterfactual instance (of class *1*):\n",
      "Distance: 25001\n",
      "    feature *10*: *0* -> *25000*\n",
      "    feature *13*: *0* -> *41*\n",
      "\n",
      "Counterfactual instance (of class *1*):\n",
      "Distance: 25001\n",
      "    feature *10*: *0* -> *25000*\n",
      "    feature *12*: *52* -> *53*\n",
      "\n",
      "Counterfactual instance (of class *1*):\n",
      "Distance: 25001\n",
      "    feature *7*: *0* -> *1*\n",
      "    feature *10*: *0* -> *25000*\n",
      "\n",
      "Counterfactual instance (of class *1*):\n",
      "Distance: 25001\n",
      "    feature *7*: *0* -> *2*\n",
      "    feature *10*: *0* -> *25000*\n",
      "\n",
      "Counterfactual instance (of class *1*):\n",
      "Distance: 25001\n",
      "    feature *7*: *0* -> *3*\n",
      "    feature *10*: *0* -> *25000*\n",
      "\n",
      "Counterfactual instance (of class *1*):\n",
      "Distance: 25001\n",
      "    feature *5*: *2* -> *6*\n",
      "    feature *10*: *0* -> *25000*\n",
      "\n",
      "Counterfactual instance (of class *1*):\n",
      "Distance: 25001\n",
      "    feature *7*: *0* -> *4*\n",
      "    feature *10*: *0* -> *25000*\n",
      "\n",
      "Counterfactual instance (of class *1*):\n",
      "Distance: 25001\n",
      "    feature *1*: *2* -> *0*\n",
      "    feature *10*: *0* -> *25000*\n",
      "\n",
      "Counterfactual instance (of class *1*):\n",
      "Distance: 25001\n",
      "    feature *1*: *2* -> *7*\n",
      "    feature *10*: *0* -> *25000*\n",
      "\n",
      "Counterfactual instance (of class *1*):\n",
      "Distance: 25001\n",
      "    feature *6*: *5* -> *8*\n",
      "    feature *10*: *0* -> *25000*\n",
      "\n",
      "Counterfactual instance (of class *1*):\n",
      "Distance: 25001\n",
      "    feature *6*: *5* -> *9*\n",
      "    feature *10*: *0* -> *25000*\n",
      "\n",
      "Counterfactual instance (of class *1*):\n",
      "Distance: 25001\n",
      "    feature *6*: *5* -> *10*\n",
      "    feature *10*: *0* -> *25000*\n",
      "\n",
      "Counterfactual instance (of class *1*):\n",
      "Distance: 25001\n",
      "    feature *6*: *5* -> *11*\n",
      "    feature *10*: *0* -> *25000*\n",
      "\n",
      "Counterfactual instance (of class *1*):\n",
      "Distance: 25001\n",
      "    feature *6*: *5* -> *12*\n",
      "    feature *10*: *0* -> *25000*\n",
      "\n",
      "Counterfactual instance (of class *1*):\n",
      "Distance: 25001\n",
      "    feature *6*: *5* -> *13*\n",
      "    feature *10*: *0* -> *25000*\n",
      "\n",
      "Counterfactual instance (of class *1*):\n",
      "Distance: 25001\n",
      "    feature *6*: *5* -> *14*\n",
      "    feature *10*: *0* -> *25000*\n",
      "\n",
      "Counterfactual instance (of class *1*):\n",
      "Distance: 25001\n",
      "    feature *5*: *2* -> *3*\n",
      "    feature *10*: *0* -> *25000*\n",
      "\n",
      "Counterfactual instance (of class *1*):\n",
      "Distance: 25001\n",
      "    feature *5*: *2* -> *4*\n",
      "    feature *10*: *0* -> *25000*\n",
      "\n",
      "Counterfactual instance (of class *1*):\n",
      "Distance: 25001\n",
      "    feature *5*: *2* -> *5*\n",
      "    feature *10*: *0* -> *25000*\n",
      "\n",
      "Counterfactual instance (of class *1*):\n",
      "Distance: 25001\n",
      "    feature *3*: *9* -> *10*\n",
      "    feature *10*: *0* -> *25000*\n",
      "\n",
      "Counterfactual instance (of class *1*):\n",
      "Distance: 25001\n",
      "    feature *6*: *5* -> *6*\n",
      "    feature *10*: *0* -> *25000*\n",
      "\n",
      "Counterfactual instance (of class *1*):\n",
      "Distance: 25001\n",
      "    feature *3*: *9* -> *11*\n",
      "    feature *10*: *0* -> *25000*\n",
      "\n",
      "Counterfactual instance (of class *1*):\n",
      "Distance: 25001\n",
      "    feature *3*: *9* -> *12*\n",
      "    feature *10*: *0* -> *25000*\n",
      "\n",
      "Counterfactual instance (of class *1*):\n",
      "Distance: 25001\n",
      "    feature *3*: *9* -> *13*\n",
      "    feature *10*: *0* -> *25000*\n",
      "\n",
      "Counterfactual instance (of class *1*):\n",
      "Distance: 25001\n",
      "    feature *3*: *9* -> *14*\n",
      "    feature *10*: *0* -> *25000*\n",
      "\n",
      "Counterfactual instance (of class *1*):\n",
      "Distance: 25001\n",
      "    feature *3*: *9* -> *15*\n",
      "    feature *10*: *0* -> *25000*\n",
      "\n",
      "Counterfactual instance (of class *1*):\n",
      "Distance: 25001\n",
      "    feature *1*: *2* -> *3*\n",
      "    feature *10*: *0* -> *25000*\n",
      "\n",
      "Counterfactual instance (of class *1*):\n",
      "Distance: 25001\n",
      "    feature *1*: *2* -> *4*\n",
      "    feature *10*: *0* -> *25000*\n",
      "\n",
      "Counterfactual instance (of class *1*):\n",
      "Distance: 25001\n",
      "    feature *1*: *2* -> *5*\n",
      "    feature *10*: *0* -> *25000*\n",
      "\n",
      "Counterfactual instance (of class *1*):\n",
      "Distance: 25001\n",
      "    feature *1*: *2* -> *6*\n",
      "    feature *10*: *0* -> *25000*\n",
      "\n",
      "Counterfactual instance (of class *1*):\n",
      "Distance: 25001\n",
      "    feature *6*: *5* -> *7*\n",
      "    feature *10*: *0* -> *25000*\n",
      "\n",
      "Counterfactual instance (of class *1*):\n",
      "Distance: 25002\n",
      "    feature *4*: *13* -> *11*\n",
      "    feature *10*: *0* -> *25000*\n",
      "\n",
      "Counterfactual instance (of class *1*):\n",
      "Distance: 25002\n",
      "    feature *0*: *35* -> *37*\n",
      "    feature *10*: *0* -> *25000*\n",
      "\n",
      "Counterfactual instance (of class *1*):\n",
      "Distance: 25002\n",
      "    feature *2*: *1226583* -> *1226585*\n",
      "    feature *10*: *0* -> *25000*\n",
      "\n",
      "Counterfactual instance (of class *1*):\n",
      "Distance: 799598\n",
      "    feature *2*: *1226583* -> *430985*\n",
      "    feature *11*: *0* -> *4000*\n"
     ]
    }
   ],
   "source": [
    "print(fatf_cf.textualise_counterfactuals(\n",
    "    data_array[data_point_index_sparse_2, :],\n",
    "    cf_explanations[0],\n",
    "    0,\n",
    "    cf_explanations[1],\n",
    "    cf_explanations[2]))"
   ]
  },
  {
   "cell_type": "code",
   "execution_count": 51,
   "metadata": {},
   "outputs": [
    {
     "data": {
      "text/plain": [
       "1"
      ]
     },
     "execution_count": 51,
     "metadata": {},
     "output_type": "execute_result"
    }
   ],
   "source": [
    "adult_density.score_data_point(cf_explanations[0][1])"
   ]
  },
  {
   "cell_type": "code",
   "execution_count": 52,
   "metadata": {},
   "outputs": [
    {
     "data": {
      "text/plain": [
       "0.022309939155656718"
      ]
     },
     "execution_count": 52,
     "metadata": {},
     "output_type": "execute_result"
    }
   ],
   "source": [
    "adult_density.score_data_point(cf_explanations[0][-1])"
   ]
  },
  {
   "cell_type": "markdown",
   "metadata": {},
   "source": [
    "#### Counterfactual fairness -- uncover bias through explainability ####"
   ]
  },
  {
   "cell_type": "code",
   "execution_count": 53,
   "metadata": {},
   "outputs": [],
   "source": [
    "cf_fairness = fatf_cf.CounterfactualExplainer(\n",
    "    model=clf,\n",
    "    dataset=data_array,\n",
    "    categorical_indices=categorical_features,\n",
    "    default_numerical_step_size=100,\n",
    "    step_sizes={census_names.index('age'): 5,\n",
    "                census_names.index('fnlwgt'): 100,\n",
    "                census_names.index('education-num'): 5,\n",
    "                census_names.index('capital-gain'): 1000,\n",
    "                census_names.index('capital-loss'): 1000,\n",
    "                census_names.index('hours-per-week'): 2},\n",
    "    counterfactual_feature_indices=[0, 5, 7, 8, 9, 13])"
   ]
  },
  {
   "cell_type": "code",
   "execution_count": 54,
   "metadata": {},
   "outputs": [],
   "source": [
    "cf_fair = cf_fairness.explain_instance(\n",
    "    data_array[data_point_index_sparse_2, :])"
   ]
  },
  {
   "cell_type": "code",
   "execution_count": 55,
   "metadata": {},
   "outputs": [
    {
     "data": {
      "text/plain": [
       "(array([], shape=(0, 0), dtype=float64),\n",
       " array([], dtype=float64),\n",
       " array([], dtype=float64))"
      ]
     },
     "execution_count": 55,
     "metadata": {},
     "output_type": "execute_result"
    }
   ],
   "source": [
    "cf_fair"
   ]
  },
  {
   "cell_type": "markdown",
   "metadata": {},
   "source": [
    "### Local surrogates based on linear and logical models ###"
   ]
  },
  {
   "cell_type": "code",
   "execution_count": 56,
   "metadata": {},
   "outputs": [],
   "source": [
    "import fatf.utils.kernels as fatf_kernels\n",
    "import fatf.utils.distances as fatf_distances\n",
    "\n",
    "from fatf.utils.data.augmentation import NormalSampling"
   ]
  },
  {
   "cell_type": "code",
   "execution_count": 57,
   "metadata": {},
   "outputs": [],
   "source": [
    "def normalise_datasets(dataset):\n",
    "    scaler = MinMaxScaler(feature_range=(0, 1)).fit(dataset)\n",
    "    # scaler = StandardScaler(with_mean=True).fit(dataset)\n",
    "    return scaler.transform(dataset)\n",
    "\n",
    "# Load datasets\n",
    "# 1/2 Moons\n",
    "moons, moons_label = sklearn.datasets.make_moons(\n",
    "    n_samples=5000, noise=0.25, random_state=4)\n",
    "moons = normalise_datasets(moons)"
   ]
  },
  {
   "cell_type": "code",
   "execution_count": 58,
   "metadata": {},
   "outputs": [
    {
     "name": "stdout",
     "output_type": "stream",
     "text": [
      "Global Accuracy: 0.927\n"
     ]
    }
   ],
   "source": [
    "global_model = RandomForestClassifier(\n",
    "    n_estimators=200)\n",
    "train, test, labels_train, labels_test = sklearn.model_selection.train_test_split(\n",
    "    moons, moons_label, test_size=0.2)\n",
    "global_model.fit(\n",
    "    train, labels_train)\n",
    "global_acc = sklearn.metrics.accuracy_score(\n",
    "    labels_test, global_model.predict(test))\n",
    "print('Global Accuracy: {:.3f}'.format(global_acc))"
   ]
  },
  {
   "cell_type": "code",
   "execution_count": 59,
   "metadata": {},
   "outputs": [
    {
     "name": "stderr",
     "output_type": "stream",
     "text": [
      "22-Jul-08 20:17:19 fatf         INFO     Seeding RNGs at random.\n",
      "22-Jul-08 20:17:19 fatf         INFO     Seeding RNGs with 1502572637.\n",
      "22-Jul-08 20:17:20 fatf         INFO     Seeding RNGs at random.\n",
      "22-Jul-08 20:17:20 fatf         INFO     Seeding RNGs with 1844880990.\n"
     ]
    },
    {
     "data": {
      "text/html": [
       "<style>#sk-container-id-2 {color: black;background-color: white;}#sk-container-id-2 pre{padding: 0;}#sk-container-id-2 div.sk-toggleable {background-color: white;}#sk-container-id-2 label.sk-toggleable__label {cursor: pointer;display: block;width: 100%;margin-bottom: 0;padding: 0.3em;box-sizing: border-box;text-align: center;}#sk-container-id-2 label.sk-toggleable__label-arrow:before {content: \"▸\";float: left;margin-right: 0.25em;color: #696969;}#sk-container-id-2 label.sk-toggleable__label-arrow:hover:before {color: black;}#sk-container-id-2 div.sk-estimator:hover label.sk-toggleable__label-arrow:before {color: black;}#sk-container-id-2 div.sk-toggleable__content {max-height: 0;max-width: 0;overflow: hidden;text-align: left;background-color: #f0f8ff;}#sk-container-id-2 div.sk-toggleable__content pre {margin: 0.2em;color: black;border-radius: 0.25em;background-color: #f0f8ff;}#sk-container-id-2 input.sk-toggleable__control:checked~div.sk-toggleable__content {max-height: 200px;max-width: 100%;overflow: auto;}#sk-container-id-2 input.sk-toggleable__control:checked~label.sk-toggleable__label-arrow:before {content: \"▾\";}#sk-container-id-2 div.sk-estimator input.sk-toggleable__control:checked~label.sk-toggleable__label {background-color: #d4ebff;}#sk-container-id-2 div.sk-label input.sk-toggleable__control:checked~label.sk-toggleable__label {background-color: #d4ebff;}#sk-container-id-2 input.sk-hidden--visually {border: 0;clip: rect(1px 1px 1px 1px);clip: rect(1px, 1px, 1px, 1px);height: 1px;margin: -1px;overflow: hidden;padding: 0;position: absolute;width: 1px;}#sk-container-id-2 div.sk-estimator {font-family: monospace;background-color: #f0f8ff;border: 1px dotted black;border-radius: 0.25em;box-sizing: border-box;margin-bottom: 0.5em;}#sk-container-id-2 div.sk-estimator:hover {background-color: #d4ebff;}#sk-container-id-2 div.sk-parallel-item::after {content: \"\";width: 100%;border-bottom: 1px solid gray;flex-grow: 1;}#sk-container-id-2 div.sk-label:hover label.sk-toggleable__label {background-color: #d4ebff;}#sk-container-id-2 div.sk-serial::before {content: \"\";position: absolute;border-left: 1px solid gray;box-sizing: border-box;top: 0;bottom: 0;left: 50%;z-index: 0;}#sk-container-id-2 div.sk-serial {display: flex;flex-direction: column;align-items: center;background-color: white;padding-right: 0.2em;padding-left: 0.2em;position: relative;}#sk-container-id-2 div.sk-item {position: relative;z-index: 1;}#sk-container-id-2 div.sk-parallel {display: flex;align-items: stretch;justify-content: center;background-color: white;position: relative;}#sk-container-id-2 div.sk-item::before, #sk-container-id-2 div.sk-parallel-item::before {content: \"\";position: absolute;border-left: 1px solid gray;box-sizing: border-box;top: 0;bottom: 0;left: 50%;z-index: -1;}#sk-container-id-2 div.sk-parallel-item {display: flex;flex-direction: column;z-index: 1;position: relative;background-color: white;}#sk-container-id-2 div.sk-parallel-item:first-child::after {align-self: flex-end;width: 50%;}#sk-container-id-2 div.sk-parallel-item:last-child::after {align-self: flex-start;width: 50%;}#sk-container-id-2 div.sk-parallel-item:only-child::after {width: 0;}#sk-container-id-2 div.sk-dashed-wrapped {border: 1px dashed gray;margin: 0 0.4em 0.5em 0.4em;box-sizing: border-box;padding-bottom: 0.4em;background-color: white;}#sk-container-id-2 div.sk-label label {font-family: monospace;font-weight: bold;display: inline-block;line-height: 1.2em;}#sk-container-id-2 div.sk-label-container {text-align: center;}#sk-container-id-2 div.sk-container {/* jupyter's `normalize.less` sets `[hidden] { display: none; }` but bootstrap.min.css set `[hidden] { display: none !important; }` so we also need the `!important` here to be able to override the default hidden behavior on the sphinx rendered scikit-learn.org. See: https://github.com/scikit-learn/scikit-learn/issues/21755 */display: inline-block !important;position: relative;}#sk-container-id-2 div.sk-text-repr-fallback {display: none;}</style><div id=\"sk-container-id-2\" class=\"sk-top-container\"><div class=\"sk-text-repr-fallback\"><pre>DecisionTreeClassifier(max_depth=3, random_state=42)</pre><b>In a Jupyter environment, please rerun this cell to show the HTML representation or trust the notebook. <br />On GitHub, the HTML representation is unable to render, please try loading this page with nbviewer.org.</b></div><div class=\"sk-container\" hidden><div class=\"sk-item\"><div class=\"sk-estimator sk-toggleable\"><input class=\"sk-toggleable__control sk-hidden--visually\" id=\"sk-estimator-id-2\" type=\"checkbox\" checked><label for=\"sk-estimator-id-2\" class=\"sk-toggleable__label sk-toggleable__label-arrow\">DecisionTreeClassifier</label><div class=\"sk-toggleable__content\"><pre>DecisionTreeClassifier(max_depth=3, random_state=42)</pre></div></div></div></div></div>"
      ],
      "text/plain": [
       "DecisionTreeClassifier(max_depth=3, random_state=42)"
      ]
     },
     "execution_count": 59,
     "metadata": {},
     "output_type": "execute_result"
    }
   ],
   "source": [
    "point = np.array([0.25, 0.50])  # To generate an explanation for\n",
    "global_class = 1\n",
    "\n",
    "samples_number_local = 3000\n",
    "\n",
    "kernel = fatf_kernels.exponential_kernel\n",
    "normal_aug = NormalSampling(train)\n",
    "\n",
    "tree = DecisionTreeClassifier(max_depth=3, random_state=42)\n",
    "ridge = RidgeClassifier(alpha=1, fit_intercept=True, random_state=42)\n",
    "\n",
    "# Ridge\n",
    "fatf.setup_random_seed()\n",
    "sampled_data = normal_aug.sample(\n",
    "    point, samples_number=samples_number_local)\n",
    "prediction = (global_model.predict(sampled_data) == global_class).astype(int)\n",
    "distance_normal = fatf_distances.euclidean_array_distance(\n",
    "    np.expand_dims(point, 0), sampled_data).flatten()\n",
    "weights_normal = kernel(\n",
    "    distance_normal,\n",
    "    width=0.05*np.sqrt(sampled_data.shape[1]))  # Default LIME width is .75\n",
    "ridge.fit(\n",
    "    sampled_data, prediction, sample_weight=weights_normal)\n",
    "\n",
    "# Tree\n",
    "fatf.setup_random_seed()\n",
    "sampled_data = normal_aug.sample(\n",
    "    point, samples_number=samples_number_local)\n",
    "prediction = (global_model.predict(sampled_data) == global_class).astype(int)\n",
    "tree.fit(\n",
    "    sampled_data, prediction, sample_weight=np.ones_like(prediction))"
   ]
  },
  {
   "cell_type": "code",
   "execution_count": 60,
   "metadata": {},
   "outputs": [],
   "source": [
    "# For plotting\n",
    "padding = 0.15\n",
    "res = 0.01\n",
    "\n",
    "# min and max values of x and y for the data set\n",
    "x_min, x_max = test[:, 0].min(), test[:, 0].max()\n",
    "y_min, y_max = test[:, 1].min(), test[:, 1].max()\n",
    "\n",
    "# Range of x's and y's\n",
    "x_range = x_max - x_min\n",
    "y_range = y_max - y_min\n",
    "\n",
    "# Add padding to the ranges\n",
    "x_min -= x_range * padding\n",
    "y_min -= y_range * padding\n",
    "x_max += x_range * padding\n",
    "y_max += y_range * padding\n",
    "xx, yy = np.meshgrid(\n",
    "    np.arange(x_min, x_max,res),\n",
    "    np.arange(y_min, y_max,res))"
   ]
  },
  {
   "cell_type": "markdown",
   "metadata": {},
   "source": [
    "#### Global model ####"
   ]
  },
  {
   "cell_type": "code",
   "execution_count": 61,
   "metadata": {},
   "outputs": [
    {
     "data": {
      "image/png": "[encoded data removed]",
      "text/plain": [
       "<Figure size 360x288 with 2 Axes>"
      ]
     },
     "metadata": {},
     "output_type": "display_data"
    }
   ],
   "source": [
    "# plot global, local with ridge, local with decision tree\n",
    "Z = global_model.predict(np.c_[xx.ravel(), yy.ravel()])   \n",
    "Z = Z.reshape(xx.shape)\n",
    "plt.figure(figsize=(5, 4))\n",
    "# plt.title('Global Model')\n",
    "cs = plt.contourf(xx, yy, Z,\n",
    "                  cmap=plt.cm.Accent, alpha=.4, vmax=1.0, vmin=0.0)\n",
    "cbar = plt.colorbar(cs)\n",
    "plt.scatter(test[:, 0], test[:, 1],\n",
    "            c=labels_test, cmap=cmap_red_blue, alpha=.5)  # , label='Sampled Data'\n",
    "plt.scatter(point[0], point[1],\n",
    "            c='k', s=100, label='Explained Instance')\n",
    "plt.xlim(0, 1)\n",
    "plt.ylim(0, 1)\n",
    "plt.legend(frameon=True, framealpha=.75, fontsize=14)\n",
    "\n",
    "plt.xticks([], fontsize=14)\n",
    "plt.yticks([], fontsize=14)\n",
    "cbar.ax.tick_params(labelsize=14)\n",
    "\n",
    "plt.savefig(\n",
    "    f'surrogate_global_model.pdf',\n",
    "    dpi=300,\n",
    "    bbox_inches='tight',\n",
    "    pad_inches=0)"
   ]
  },
  {
   "cell_type": "markdown",
   "metadata": {},
   "source": [
    "#### Local model -- linear surrogate ####"
   ]
  },
  {
   "cell_type": "code",
   "execution_count": 62,
   "metadata": {},
   "outputs": [
    {
     "data": {
      "image/png": "[encoded data removed]",
      "text/plain": [
       "<Figure size 360x360 with 1 Axes>"
      ]
     },
     "metadata": {},
     "output_type": "display_data"
    }
   ],
   "source": [
    "plt.figure(figsize=(5, 5))\n",
    "# plt.title('Local Ridge Model')\n",
    "\n",
    "# Retrieve the model parameters\n",
    "b = ridge.intercept_[0]\n",
    "w1, w2 = ridge.coef_.T\n",
    "# Calculate the intercept and gradient of the decision boundary\n",
    "c = -b / w2\n",
    "m = -w1 / w2\n",
    "# Plot the classification boundary\n",
    "xd = np.array([x_min, x_max])\n",
    "yd = m * xd + c\n",
    "# plt.plot(xd, yd, 'k', lw=2, ls='--')\n",
    "plt.fill_between(xd, yd, y_min, color=colours_[1], alpha=0.2, lw=0)\n",
    "plt.fill_between(xd, yd, y_max, color=colours_[0], alpha=0.2, lw=0)\n",
    "\n",
    "plt.scatter(test[:, 0], test[:, 1],\n",
    "            c=labels_test, cmap=cmap_red_blue, alpha=.5)  # , label='Sampled Data'\n",
    "plt.scatter(point[0], point[1],\n",
    "            c='k', s=100, label='Explained Instance')\n",
    "plt.xlim(0, 1)\n",
    "plt.ylim(0, 1)\n",
    "plt.legend(frameon=True, framealpha=.75, fontsize=14)\n",
    "\n",
    "plt.xticks([], fontsize=14)\n",
    "plt.yticks([], fontsize=14)\n",
    "\n",
    "plt.savefig(\n",
    "    f'surrogate_local_ridge.pdf',\n",
    "    dpi=300,\n",
    "    bbox_inches='tight',\n",
    "    pad_inches=0)"
   ]
  },
  {
   "cell_type": "markdown",
   "metadata": {},
   "source": [
    "#### Local model -- tree surrogate ####"
   ]
  },
  {
   "cell_type": "code",
   "execution_count": 63,
   "metadata": {},
   "outputs": [
    {
     "name": "stderr",
     "output_type": "stream",
     "text": [
      "/Python/3.8.2/envs/res/lib/python3.8/site-packages/sklearn/inspection/_plot/decision_boundary.py:152: MatplotlibDeprecationWarning: shading='flat' when X and Y have the same dimensions as C is deprecated since 3.3.  Either specify the corners of the quadrilaterals with X and Y, or pass shading='auto', 'nearest' or 'gouraud', or set rcParams['pcolor.shading'].  This will become an error two minor releases later.\n",
      "  self.surface_ = plot_func(self.xx0, self.xx1, self.response, **kwargs)\n",
      "/Python/3.8.2/envs/res/lib/python3.8/site-packages/sklearn/inspection/_plot/decision_boundary.py:152: MatplotlibDeprecationWarning: Using a string of single character colors as a color sequence is deprecated since 3.2 and will be removed two minor releases later. Use an explicit list instead.\n",
      "  self.surface_ = plot_func(self.xx0, self.xx1, self.response, **kwargs)\n"
     ]
    },
    {
     "data": {
      "image/png": "[encoded data removed]",
      "text/plain": [
       "<Figure size 360x360 with 1 Axes>"
      ]
     },
     "metadata": {},
     "output_type": "display_data"
    }
   ],
   "source": [
    "f = plt.figure(figsize=(5, 5))\n",
    "ax = plt.subplot()\n",
    "# plt.title('Local Tree')\n",
    "\n",
    "DecisionBoundaryDisplay.from_estimator(\n",
    "    tree,\n",
    "    np.c_[xx.ravel(), yy.ravel()],\n",
    "    cmap=cmap_red_blue_blend,\n",
    "    response_method='predict',\n",
    "    plot_method='pcolormesh',\n",
    "    edgecolors='',  # linewidths=0\n",
    "    ax=ax)\n",
    "\n",
    "plt.scatter(\n",
    "    test[:, 0], test[:, 1],\n",
    "    c=labels_test, cmap=cmap_red_blue, alpha=.5)  # , label='Sampled Data'\n",
    "plt.scatter(point[0], point[1],\n",
    "            c='k', s=100, label='Explained Instance')\n",
    "\n",
    "plt.xlim(0, 1)\n",
    "plt.ylim(0, 1)\n",
    "plt.legend(frameon=True, framealpha=.75, fontsize=14)\n",
    "\n",
    "plt.xticks([], fontsize=14)\n",
    "plt.yticks([], fontsize=14)\n",
    "\n",
    "plt.savefig(\n",
    "    f'surrogate_local_tree.pdf',\n",
    "    dpi=300,\n",
    "    bbox_inches='tight',\n",
    "    pad_inches=0)"
   ]
  }
 ],
 "metadata": {
  "kernelspec": {
   "display_name": "Python 3 (ipykernel)",
   "language": "python",
   "name": "python3"
  },
  "language_info": {
   "codemirror_mode": {
    "name": "ipython",
    "version": 3
   },
   "file_extension": ".py",
   "mimetype": "text/x-python",
   "name": "python",
   "nbconvert_exporter": "python",
   "pygments_lexer": "ipython3",
   "version": "3.8.2"
  }
 },
 "nbformat": 4,
 "nbformat_minor": 2
}
